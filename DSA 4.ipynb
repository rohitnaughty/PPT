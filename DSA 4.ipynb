{
 "cells": [
  {
   "cell_type": "markdown",
   "id": "56e77491-508d-4d59-b16e-befa75c9b35f",
   "metadata": {},
   "source": [
    "<aside>\n",
    "💡 **Question 1**\n",
    "Given three integer arrays arr1, arr2 and arr3 **sorted** in **strictly increasing** order, return a sorted array of **only** the integers that appeared in **all** three arrays.\n",
    "\n",
    "**Example 1:**\n",
    "\n",
    "Input: arr1 = [1,2,3,4,5], arr2 = [1,2,5,7,9], arr3 = [1,3,4,5,8]\n",
    "\n",
    "Output: [1,5]\n",
    "\n",
    "**Explanation:** Only 1 and 5 appeared in the three arrays.\n",
    "\n",
    "</aside>"
   ]
  },
  {
   "cell_type": "code",
   "execution_count": 1,
   "id": "17b84ecc-c308-47d0-9e30-8ebd8a88e8c8",
   "metadata": {},
   "outputs": [],
   "source": [
    "def ques1(arr1,arr2,arr3):\n",
    "    result=[]\n",
    "    for i in arr1:\n",
    "        if i in arr2 and  i in arr3:\n",
    "            result.append(i)\n",
    "    return result"
   ]
  },
  {
   "cell_type": "code",
   "execution_count": 2,
   "id": "0d5c3ccc-9dcb-4bc0-8a2f-2efcc37f1a1d",
   "metadata": {},
   "outputs": [
    {
     "data": {
      "text/plain": [
       "[1, 5]"
      ]
     },
     "execution_count": 2,
     "metadata": {},
     "output_type": "execute_result"
    }
   ],
   "source": [
    "ques1([1,2,3,4,5],[1,2,5,7,9],[1,3,4,5,8])"
   ]
  },
  {
   "cell_type": "markdown",
   "id": "a6b2ed63-6cef-4d45-8db3-64d5553f0c07",
   "metadata": {},
   "source": [
    "<aside>\n",
    "💡 **Question 2**\n",
    "\n",
    "Given two **0-indexed** integer arrays nums1 and nums2, return *a list* answer *of size* 2 *where:*\n",
    "\n",
    "- answer[0] *is a list of all **distinct** integers in* nums1 *which are **not** present in* nums2*.*\n",
    "- answer[1] *is a list of all **distinct** integers in* nums2 *which are **not** present in* nums1.\n",
    "\n",
    "**Note** that the integers in the lists may be returned in **any** order.\n",
    "\n",
    "**Example 1:**\n",
    "\n",
    "**Input:** nums1 = [1,2,3], nums2 = [2,4,6]\n",
    "\n",
    "**Output:** [[1,3],[4,6]]\n",
    "\n",
    "**Explanation:**\n",
    "\n",
    "For nums1, nums1[1] = 2 is present at index 0 of nums2, whereas nums1[0] = 1 and nums1[2] = 3 are not present in nums2. Therefore, answer[0] = [1,3].\n",
    "\n",
    "For nums2, nums2[0] = 2 is present at index 1 of nums1, whereas nums2[1] = 4 and nums2[2] = 6 are not present in nums2. Therefore, answer[1] = [4,6].\n",
    "\n",
    "</aside>"
   ]
  },
  {
   "cell_type": "code",
   "execution_count": 17,
   "id": "c1cd7ebf-2770-422b-ab96-05161748a174",
   "metadata": {},
   "outputs": [],
   "source": [
    "def ques2(nums1, nums2):\n",
    "    answer = [[], []]\n",
    "    for num in nums1:\n",
    "        if num not in nums2:\n",
    "            answer[0].append(num)\n",
    "    for num in nums2:\n",
    "        if num not in nums1:\n",
    "            answer[1].append(num)\n",
    "    return answer\n"
   ]
  },
  {
   "cell_type": "code",
   "execution_count": 19,
   "id": "91d29650-3858-4c07-ac6a-6722b58343e1",
   "metadata": {},
   "outputs": [
    {
     "data": {
      "text/plain": [
       "[[1, 3], [4, 6]]"
      ]
     },
     "execution_count": 19,
     "metadata": {},
     "output_type": "execute_result"
    }
   ],
   "source": [
    "ques2([1,2,3],[2,4,6])"
   ]
  },
  {
   "cell_type": "markdown",
   "id": "5f6f49a0-2f03-4fde-a8c2-41b4b66f83ab",
   "metadata": {},
   "source": [
    "<aside>\n",
    "💡 **Question 3**\n",
    "Given a 2D integer array matrix, return *the **transpose** of* matrix.\n",
    "\n",
    "The **transpose** of a matrix is the matrix flipped over its main diagonal, switching the matrix's row and column indices.\n",
    "\n",
    "**Example 1:**\n",
    "\n",
    "Input: matrix = [[1,2,3],[4,5,6],[7,8,9]]\n",
    "\n",
    "Output: [[1,4,7],[2,5,8],[3,6,9]]\n",
    "\n",
    "</aside>"
   ]
  },
  {
   "cell_type": "code",
   "execution_count": 38,
   "id": "8198ca77-de02-45f0-b2f9-14e8ca5ea7bd",
   "metadata": {},
   "outputs": [],
   "source": [
    "def ques3(num):\n",
    "    transpose = [[0, 0, 0], [0, 0, 0],[0,0,0]]\n",
    "    for i in range(len(num)):\n",
    "        for j in range(len(num[0])):\n",
    "            transpose[i][j]=num[j][i]\n",
    "    return transpose"
   ]
  },
  {
   "cell_type": "code",
   "execution_count": 39,
   "id": "37779bf4-afad-4c58-8704-3d816f366a3a",
   "metadata": {},
   "outputs": [
    {
     "data": {
      "text/plain": [
       "[[1, 4, 7], [2, 5, 8], [3, 6, 9]]"
      ]
     },
     "execution_count": 39,
     "metadata": {},
     "output_type": "execute_result"
    }
   ],
   "source": [
    "ques3([[1,2,3],[4,5,6],[7,8,9]])"
   ]
  },
  {
   "cell_type": "markdown",
   "id": "8869a74c-c61e-4ea0-aaaf-4e93b9eff19d",
   "metadata": {},
   "source": [
    "<aside>\n",
    "💡 **Question 4**\n",
    "Given an integer array nums of 2n integers, group these integers into n pairs (a1, b1), (a2, b2), ..., (an, bn) such that the sum of min(ai, bi) for all i is **maximized**. Return *the maximized sum*.\n",
    "\n",
    "**Example 1:**\n",
    "\n",
    "Input: nums = [1,4,3,2]\n",
    "\n",
    "Output: 4\n",
    "\n",
    "**Explanation:** All possible pairings (ignoring the ordering of elements) are:\n",
    "\n",
    "1. (1, 4), (2, 3) -> min(1, 4) + min(2, 3) = 1 + 2 = 3\n",
    "\n",
    "2. (1, 3), (2, 4) -> min(1, 3) + min(2, 4) = 1 + 2 = 3\n",
    "\n",
    "3. (1, 2), (3, 4) -> min(1, 2) + min(3, 4) = 1 + 3 = 4\n",
    "\n",
    "So the maximum possible sum is 4.\n",
    "\n",
    "</aside>"
   ]
  },
  {
   "cell_type": "code",
   "execution_count": 52,
   "id": "acc4c82d-2f86-4866-a4fe-b241a70b13b6",
   "metadata": {},
   "outputs": [],
   "source": [
    "def arrayPairSum(nums):\n",
    "    nums.sort()  # Sort the array in ascending order\n",
    "    n = len(nums)\n",
    "    max_sum = 0\n",
    "    for i in range(0, n, 2):\n",
    "        max_sum += nums[i]\n",
    "    return max_sum\n"
   ]
  },
  {
   "cell_type": "code",
   "execution_count": 53,
   "id": "0547f218-78de-4d04-b866-39c83dd7bcd2",
   "metadata": {},
   "outputs": [
    {
     "data": {
      "text/plain": [
       "4"
      ]
     },
     "execution_count": 53,
     "metadata": {},
     "output_type": "execute_result"
    }
   ],
   "source": [
    "arrayPairSum([1,4,3,2])"
   ]
  },
  {
   "cell_type": "markdown",
   "id": "d700bddd-6475-4427-9e29-ee9be6598d15",
   "metadata": {},
   "source": [
    "<aside>\n",
    "💡 **Question 5**\n",
    "You have n coins and you want to build a staircase with these coins. The staircase consists of k rows where the ith row has exactly i coins. The last row of the staircase **may be** incomplete.\n",
    "\n",
    "Given the integer n, return *the number of **complete rows** of the staircase you will build*.\n",
    "\n",
    "**Example 1:**\n",
    "    **Input:** n = 5\n",
    "\n",
    "**Output:** 2\n",
    "\n",
    "**Explanation:** Because the 3rd row is incomplete, we return 2.\n",
    "\n",
    "</aside>"
   ]
  },
  {
   "cell_type": "code",
   "execution_count": 50,
   "id": "ccab4b32-0954-4fa1-957a-03e72a1cc9d6",
   "metadata": {},
   "outputs": [],
   "source": [
    "def ques5(n):\n",
    "    i=1\n",
    "    for i in range(n):\n",
    "        formula=(i*(i+1))/2\n",
    "        if formula<=n:\n",
    "            i=i+1\n",
    "        else:\n",
    "            return i-1"
   ]
  },
  {
   "cell_type": "code",
   "execution_count": 51,
   "id": "bd2ba162-40eb-4915-b00f-b3cc389ca9e8",
   "metadata": {},
   "outputs": [
    {
     "data": {
      "text/plain": [
       "4"
      ]
     },
     "execution_count": 51,
     "metadata": {},
     "output_type": "execute_result"
    }
   ],
   "source": [
    "ques5(10)"
   ]
  },
  {
   "cell_type": "markdown",
   "id": "6d6e0abe-77f8-473c-8029-6b8ad58116a3",
   "metadata": {},
   "source": [
    "<aside>\n",
    "💡 **Question 6**\n",
    "Given an integer array nums sorted in **non-decreasing** order, return *an array of **the squares of each number** sorted in non-decreasing order*.\n",
    "\n",
    "**Example 1:**\n",
    "\n",
    "Input: nums = [-4,-1,0,3,10]\n",
    "\n",
    "Output: [0,1,9,16,100]\n",
    "\n",
    "**Explanation:** After squaring, the array becomes [16,1,0,9,100].\n",
    "After sorting, it becomes [0,1,9,16,100]\n",
    "\n",
    "</aside>"
   ]
  },
  {
   "cell_type": "code",
   "execution_count": 15,
   "id": "5dd91a78-4aae-40c3-912b-25d432a40a65",
   "metadata": {},
   "outputs": [],
   "source": [
    "def ques6(nums):\n",
    "    result=[]\n",
    "    for i in nums:\n",
    "        result.append(i*i)\n",
    "    return sorted(result)"
   ]
  },
  {
   "cell_type": "code",
   "execution_count": 16,
   "id": "b9fb0c2b-986d-4bc9-bdb6-54b930bd0b21",
   "metadata": {},
   "outputs": [
    {
     "data": {
      "text/plain": [
       "[0, 1, 9, 16, 100]"
      ]
     },
     "execution_count": 16,
     "metadata": {},
     "output_type": "execute_result"
    }
   ],
   "source": [
    "ques6([-4,-1,0,3,10])"
   ]
  },
  {
   "cell_type": "markdown",
   "id": "d13eb742-ee29-4e6e-912e-71aee5bf7058",
   "metadata": {},
   "source": [
    "<aside>\n",
    "💡 **Question 7**\n",
    "You are given an m x n matrix M initialized with all 0's and an array of operations ops, where ops[i] = [ai, bi] means M[x][y] should be incremented by one for all 0 <= x < ai and 0 <= y < bi.\n",
    "\n",
    "Count and return *the number of maximum integers in the matrix after performing all the operations*\n",
    "\n",
    "**Example 1:**\n",
    "\n",
    "![q4.jpg](https://s3-us-west-2.amazonaws.com/secure.notion-static.com/4d0890d0-7bc7-4f59-be8e-352d9f3c1c52/q4.jpg)\n",
    "\n",
    "**Input:** m = 3, n = 3, ops = [[2,2],[3,3]]\n",
    "\n",
    "**Output:** 4\n",
    "Explanation: The maximum integer in M is 2, and there are four of it in M. So return 4.\n",
    "\n",
    "</aside>"
   ]
  },
  {
   "cell_type": "code",
   "execution_count": 54,
   "id": "b897b3e5-0e38-4195-a35c-e75672d3a0ba",
   "metadata": {},
   "outputs": [],
   "source": [
    "def maxCount(m, n, ops):\n",
    "    min_a = m\n",
    "    min_b = n\n",
    "    for op in ops:\n",
    "        min_a = min(min_a, op[0])\n",
    "        min_b = min(min_b, op[1])\n",
    "    return min_a * min_b\n"
   ]
  },
  {
   "cell_type": "code",
   "execution_count": 55,
   "id": "05a66574-c8ac-497b-a83f-9fcfbeba39a6",
   "metadata": {},
   "outputs": [
    {
     "data": {
      "text/plain": [
       "4"
      ]
     },
     "execution_count": 55,
     "metadata": {},
     "output_type": "execute_result"
    }
   ],
   "source": [
    "maxCount(3, 3, [[2,2],[3,3]])"
   ]
  },
  {
   "cell_type": "markdown",
   "id": "b46ccb7b-49d2-4dcc-afc7-d90f01b8dbef",
   "metadata": {},
   "source": [
    "<aside>\n",
    "💡 **Question 8**\n",
    "\n",
    "Given the array nums consisting of 2n elements in the form [x1,x2,...,xn,y1,y2,...,yn].\n",
    "\n",
    "*Return the array in the form* [x1,y1,x2,y2,...,xn,yn].\n",
    "\n",
    "**Example 1:**\n",
    "\n",
    "**Input:** nums = [2,5,1,3,4,7], n = 3\n",
    "\n",
    "**Output:** [2,3,5,4,1,7]\n",
    "\n",
    "**Explanation:** Since x1=2, x2=5, x3=1, y1=3, y2=4, y3=7 then the answer is [2,3,5,4,1,7].\n",
    "\n",
    "</aside>"
   ]
  },
  {
   "cell_type": "code",
   "execution_count": 9,
   "id": "c5ff6f60-da1a-40f6-9e2c-7d7de85b6744",
   "metadata": {},
   "outputs": [],
   "source": [
    "def ques8(nums):\n",
    "    k=int(len(nums)/2)\n",
    "    result=[]\n",
    "    for i in range(k):\n",
    "        result.append(nums[i])\n",
    "        result.append(nums[i+k])\n",
    "        i=i+1\n",
    "    return result\n",
    "        \n",
    "        "
   ]
  },
  {
   "cell_type": "code",
   "execution_count": 10,
   "id": "59518261-2498-4903-b086-9ed5689eb73c",
   "metadata": {},
   "outputs": [
    {
     "data": {
      "text/plain": [
       "[2, 3, 5, 4, 1, 7]"
      ]
     },
     "execution_count": 10,
     "metadata": {},
     "output_type": "execute_result"
    }
   ],
   "source": [
    "ques8([2,5,1,3,4,7])"
   ]
  },
  {
   "cell_type": "code",
   "execution_count": null,
   "id": "6298dde1-95b5-4f00-87d8-0369bd29bd9e",
   "metadata": {},
   "outputs": [],
   "source": []
  }
 ],
 "metadata": {
  "kernelspec": {
   "display_name": "Python 3 (ipykernel)",
   "language": "python",
   "name": "python3"
  },
  "language_info": {
   "codemirror_mode": {
    "name": "ipython",
    "version": 3
   },
   "file_extension": ".py",
   "mimetype": "text/x-python",
   "name": "python",
   "nbconvert_exporter": "python",
   "pygments_lexer": "ipython3",
   "version": "3.10.6"
  }
 },
 "nbformat": 4,
 "nbformat_minor": 5
}
