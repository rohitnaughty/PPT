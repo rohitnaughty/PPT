{
 "cells": [
  {
   "cell_type": "markdown",
   "id": "658b760f-6166-46fd-9796-dd23920e0b83",
   "metadata": {},
   "source": [
    "<aside>\n",
    "💡 **Question 1**\n",
    "\n",
    "A permutation perm of n + 1 integers of all the integers in the range [0, n] can be represented as a string s of length n where:\n",
    "\n",
    "- s[i] == 'I' if perm[i] < perm[i + 1], and\n",
    "- s[i] == 'D' if perm[i] > perm[i + 1].\n",
    "\n",
    "Given a string s, reconstruct the permutation perm and return it. If there are multiple valid permutations perm, return **any of them**.\n",
    "\n",
    "**Example 1:**\n",
    "\n",
    "**Input:** s = \"IDID\"\n",
    "\n",
    "**Output:**\n",
    "\n",
    "[0,4,1,3,2]\n",
    "\n",
    "</aside>"
   ]
  },
  {
   "cell_type": "code",
   "execution_count": 1,
   "id": "f006ccf2-bc2f-4e80-9764-2d38e689d93b",
   "metadata": {},
   "outputs": [],
   "source": [
    "def findPermutation(s):\n",
    "    n = len(s)\n",
    "    perm = []\n",
    "    low, high = 0, n\n",
    "\n",
    "    for ch in s:\n",
    "        if ch == 'I':\n",
    "            perm.append(low)\n",
    "            low += 1\n",
    "        elif ch == 'D':\n",
    "            perm.append(high)\n",
    "            high -= 1\n",
    "\n",
    "    perm.append(low)\n",
    "    return perm"
   ]
  },
  {
   "cell_type": "code",
   "execution_count": 2,
   "id": "6544f308-af0a-482b-92f2-d4e18463c324",
   "metadata": {},
   "outputs": [
    {
     "data": {
      "text/plain": [
       "[0, 4, 1, 3, 2]"
      ]
     },
     "execution_count": 2,
     "metadata": {},
     "output_type": "execute_result"
    }
   ],
   "source": [
    "findPermutation(\"IDID\")"
   ]
  },
  {
   "cell_type": "markdown",
   "id": "22bd5a36-fbd5-4495-a031-724e66e5b7ab",
   "metadata": {},
   "source": [
    "2 You are given an m x n integer matrix matrix with the following two properties:\n",
    "\n",
    "- Each row is sorted in non-decreasing order.\n",
    "- The first integer of each row is greater than the last integer of the previous row.\n",
    "\n",
    "Given an integer target, return true *if* target *is in* matrix *or* false *otherwise*.\n",
    "\n",
    "You must write a solution in O(log(m * n)) time complexity.\n",
    "\n",
    "**Example 1:**\n",
    "**Input:** matrix = [[1,3,5,7],[10,11,16,20],[23,30,34,60]], target = 3\n",
    "\n",
    "**Output:** true"
   ]
  },
  {
   "cell_type": "code",
   "execution_count": 26,
   "id": "d4507b14-aa7d-4476-aa1c-019f2779e940",
   "metadata": {},
   "outputs": [],
   "source": [
    "def ques2(mat,tar):\n",
    "    for i in range(len(mat)):\n",
    "        for j in range(len(mat[0])):\n",
    "            if mat[i][j]==tar:\n",
    "                return True\n",
    "    return False  \n",
    "            \n",
    "            \n",
    "    "
   ]
  },
  {
   "cell_type": "code",
   "execution_count": 31,
   "id": "5e0d58cd-b50e-4d12-b3f9-cc97f581f484",
   "metadata": {},
   "outputs": [
    {
     "data": {
      "text/plain": [
       "True"
      ]
     },
     "execution_count": 31,
     "metadata": {},
     "output_type": "execute_result"
    }
   ],
   "source": [
    "ques2([[1,3,5,7],[10,11,3,20],[23,30,34,60]], 3)"
   ]
  },
  {
   "cell_type": "markdown",
   "id": "43e6159a-16eb-4f94-be65-a8aad134f7d1",
   "metadata": {},
   "source": [
    "<aside>\n",
    "💡 **Question 3**\n",
    "\n",
    "Given an array of integers arr, return *true if and only if it is a valid mountain array*.\n",
    "\n",
    "Recall that arr is a mountain array if and only if:\n",
    "\n",
    "- arr.length >= 3\n",
    "- There exists some i with 0 < i < arr.length - 1 such that:\n",
    "    - arr[0] < arr[1] < ... < arr[i - 1] < arr[i]\n",
    "    - arr[i] > arr[i + 1] > ... > arr[arr.length - 1]\n",
    "    **Example 1:**\n",
    "\n",
    "**Input:** arr = [2,1]\n",
    "\n",
    "**Output:**\n",
    "\n",
    "false\n",
    "</aside>"
   ]
  },
  {
   "cell_type": "code",
   "execution_count": 5,
   "id": "c105f479-77da-45f3-a93c-19687e513ab5",
   "metadata": {},
   "outputs": [],
   "source": [
    "def ques3(arr):\n",
    "    M = max(arr)\n",
    "    if len(arr) <= 3:\n",
    "        return False\n",
    "    max_position = arr.index(M)\n",
    "    \n",
    "    for i in range(max_position):\n",
    "        if arr[i] >=arr[i+1]:\n",
    "            return False\n",
    "    for j in range(max_position, len(arr)-1):\n",
    "        if arr[j] <= arr[j+1]:\n",
    "            return False\n",
    "    return True"
   ]
  },
  {
   "cell_type": "code",
   "execution_count": 6,
   "id": "eddffe19-d53a-42f1-b296-3624d472146b",
   "metadata": {},
   "outputs": [
    {
     "data": {
      "text/plain": [
       "False"
      ]
     },
     "execution_count": 6,
     "metadata": {},
     "output_type": "execute_result"
    }
   ],
   "source": [
    "ques3([0,2,3,3,5,2,1,0])"
   ]
  },
  {
   "cell_type": "markdown",
   "id": "baa1542c-1ba1-431b-9a38-a74395bd023c",
   "metadata": {},
   "source": [
    "Given a binary array nums, return *the maximum length of a contiguous subarray with an equal number of* 0 *and* 1.\n",
    "\n",
    "**Example 1:**\n",
    "\n",
    "**Input:** nums = [0,1]\n",
    "\n",
    "**Output:** 2\n",
    "\n",
    "**Explanation:**\n",
    "\n",
    "[0, 1] is the longest contiguous subarray with an equal number of 0 and 1."
   ]
  },
  {
   "cell_type": "code",
   "execution_count": 4,
   "id": "9e6b0fd0-37a7-4c0c-8057-5bd112d0123f",
   "metadata": {},
   "outputs": [],
   "source": [
    "def findMaxLength(nums):\n",
    "    max_length = 0\n",
    "    sum_dict = {0: -1}\n",
    "    sum = 0\n",
    "\n",
    "    for i in range(len(nums)):\n",
    "        if nums[i] == 1:\n",
    "            sum += 1\n",
    "        else:\n",
    "            sum -= 1\n",
    "\n",
    "        if sum in sum_dict:\n",
    "            length = i - sum_dict[sum]\n",
    "            if length > max_length:\n",
    "                max_length = length\n",
    "        else:\n",
    "            sum_dict[sum] = i\n",
    "\n",
    "    return max_length"
   ]
  },
  {
   "cell_type": "code",
   "execution_count": 5,
   "id": "715fa315-66e7-4485-9c7e-3c699ded7777",
   "metadata": {},
   "outputs": [
    {
     "name": "stdout",
     "output_type": "stream",
     "text": [
      "2\n"
     ]
    }
   ],
   "source": [
    "nums = [0, 1]\n",
    "result = findMaxLength(nums)\n",
    "print(result)"
   ]
  },
  {
   "cell_type": "markdown",
   "id": "2c0e5702-a402-4e9b-a4c2-969417e7b097",
   "metadata": {},
   "source": [
    "<aside>\n",
    "💡 **Question 5**\n",
    "\n",
    "The **product sum** of two equal-length arrays a and b is equal to the sum of a[i] * b[i] for all 0 <= i < a.length (**0-indexed**).\n",
    "\n",
    "- For example, if a = [1,2,3,4] and b = [5,2,3,1], the **product sum** would be 1*5 + 2*2 + 3*3 + 4*1 = 22.\n",
    "\n",
    "Given two arrays nums1 and nums2 of length n, return *the **minimum product sum** if you are allowed to **rearrange** the **order** of the elements in* nums1.\n",
    "\n",
    "**Example 1:**\n",
    "\n",
    "**Input:** nums1 = [5,3,4,2], nums2 = [4,2,2,5]\n",
    "\n",
    "**Output:** 40\n",
    "\n",
    "**Explanation:**\n",
    "\n",
    "We can rearrange nums1 to become [3,5,4,2]. The product sum of [3,5,4,2] and [4,2,2,5] is 3*4 + 5*2 + 4*2 + 2*5 = 40.\n",
    "\n",
    "</aside>"
   ]
  },
  {
   "cell_type": "code",
   "execution_count": 6,
   "id": "aa7753c0-e023-48d1-ae43-a19dbdfb8f39",
   "metadata": {},
   "outputs": [
    {
     "name": "stdout",
     "output_type": "stream",
     "text": [
      "40\n"
     ]
    }
   ],
   "source": [
    "def minProductSum(nums1, nums2):\n",
    "    nums1.sort()\n",
    "    nums2.sort(reverse=True)\n",
    "\n",
    "    min_product_sum = 0\n",
    "    for i in range(len(nums1)):\n",
    "        min_product_sum += nums1[i] * nums2[i]\n",
    "\n",
    "    return min_product_sum\n",
    "nums1 = [5, 3, 4, 2]\n",
    "nums2 = [4, 2, 2, 5]\n",
    "result = minProductSum(nums1, nums2)\n",
    "print(result)"
   ]
  },
  {
   "cell_type": "code",
   "execution_count": null,
   "id": "a7f65ff4-36a0-45d7-a18d-bce14f4aa648",
   "metadata": {},
   "outputs": [],
   "source": [
    "Q6. An integer array original is transformed into a doubled** array changed by appending twice the value of every element in original, and then randomly shuffling the resulting array.**\n",
    "\n",
    "Given an array changed, return original if changed is a doubled* array. If* changed is not a doubled* array, return an empty array. The elements in* original may be returned in any* order*.\n",
    "\n",
    "Example 1:\n",
    "\n",
    "Input: changed = [1,3,4,2,6,8]\n",
    "\n",
    "Output: [1,3,4]\n",
    "\n",
    "Explanation: One possible original array could be [1,3,4]:\n",
    "\n",
    "Twice the value of 1 is 1 * 2 = 2. Twice the value of 3 is 3 * 2 = 6. Twice the value of 4 is 4 * 2 = 8. Other original arrays could be [4,3,1] or [3,1,4]."
   ]
  },
  {
   "cell_type": "code",
   "execution_count": null,
   "id": "e88a3086-d641-46e1-984d-f29732130706",
   "metadata": {},
   "outputs": [],
   "source": [
    "from typing import List\n",
    "\n",
    "def findOriginalArray(changed: List[int]) -> List[int]:\n",
    "    if len(changed) % 2 != 0:\n",
    "        return []\n",
    "\n",
    "    count = {}\n",
    "    for num in changed:\n",
    "        count[num] = count.get(num, 0) + 1\n",
    "\n",
    "    original = []\n",
    "    for num in sorted(changed):\n",
    "        if count.get(num, 0) == 0:\n",
    "            continue\n",
    "        if count.get(num * 2, 0) == 0:\n",
    "            return []\n",
    "        original.append(num)\n",
    "        count[num] -= 1\n",
    "        count[num * 2] -= 1\n",
    "\n",
    "    return original\n",
    "changed = [1, 3, 4, 2, 6, 8]\n",
    "original = findOriginalArray(changed)\n",
    "print(original)"
   ]
  },
  {
   "cell_type": "code",
   "execution_count": null,
   "id": "9ac37580-b765-4153-b9c7-a26b37fc46f9",
   "metadata": {},
   "outputs": [],
   "source": [
    "Q7. Given a positive integer n, generate an n x n matrix filled with elements from 1 to n2 in spiral order"
   ]
  },
  {
   "cell_type": "code",
   "execution_count": 7,
   "id": "c979bcf4-34c9-4db0-92f6-659b9d80d370",
   "metadata": {},
   "outputs": [
    {
     "name": "stdout",
     "output_type": "stream",
     "text": [
      "[[1, 2, 3], [8, 9, 4], [7, 6, 5]]\n"
     ]
    }
   ],
   "source": [
    "from typing import List\n",
    "\n",
    "def generateMatrix(n: int) -> List[List[int]]:\n",
    "    matrix = []\n",
    "    total = n * n\n",
    "    for i in range(1, total + 1):\n",
    "        matrix.append(i)\n",
    "    result = [[None] * n for _ in range(n)]\n",
    "\n",
    "    for d in range(n - 1):\n",
    "        for i in range(d, n - d - 1):\n",
    "            result[d][i] = matrix.pop(0)\n",
    "        for i in range(d, n - d - 1):\n",
    "            result[i][n - d - 1] = matrix.pop(0)\n",
    "        for i in range(n - d - 1, d, -1):\n",
    "            result[n - d - 1][i] = matrix.pop(0)\n",
    "        for i in range(n - d - 1, d, -1):\n",
    "            result[i][d] = matrix.pop(0)\n",
    "    \n",
    "    if n % 2:\n",
    "        x = (n - 1) // 2\n",
    "        result[x][x] = matrix.pop()\n",
    "\n",
    "    return result\n",
    "n = 3\n",
    "result = generateMatrix(n)\n",
    "print(result)"
   ]
  },
  {
   "cell_type": "markdown",
   "id": "7f357cfd-d1d2-4c45-980b-a9c9462880ab",
   "metadata": {},
   "source": [
    "Q8. Given two sparse matrices mat1 of size m x k and mat2 of size k x n, return the result of mat1 x mat2. You may assume that multiplication is always possible."
   ]
  },
  {
   "cell_type": "code",
   "execution_count": 8,
   "id": "87bc9b60-f474-470e-aa05-ce887306bd4d",
   "metadata": {},
   "outputs": [
    {
     "name": "stdout",
     "output_type": "stream",
     "text": [
      "[7, 0, 0]\n",
      "[-7, 0, 3]\n"
     ]
    }
   ],
   "source": [
    "def multiply(mat1, mat2):\n",
    "    m, k = len(mat1), len(mat1[0])\n",
    "    k2, n = len(mat2), len(mat2[0])\n",
    "\n",
    "    result = [[0] * n for _ in range(m)]\n",
    "\n",
    "    for i in range(m):\n",
    "        for j in range(k):\n",
    "            if mat1[i][j] != 0:\n",
    "                for col in range(n):\n",
    "                    result[i][col] += mat1[i][j] * mat2[j][col]\n",
    "\n",
    "    return result\n",
    "mat1 = [[1, 0, 0], [-1, 0, 3]]\n",
    "mat2 = [[7, 0, 0], [0, 0, 0], [0, 0, 1]]\n",
    "\n",
    "result = multiply(mat1, mat2)\n",
    "for row in result:\n",
    "    print(row)"
   ]
  },
  {
   "cell_type": "code",
   "execution_count": null,
   "id": "6ad12034-bde4-4707-985d-b92d4d94069b",
   "metadata": {},
   "outputs": [],
   "source": []
  },
  {
   "cell_type": "code",
   "execution_count": null,
   "id": "4e240dfa-451c-4652-9c44-346a7064995a",
   "metadata": {},
   "outputs": [],
   "source": []
  }
 ],
 "metadata": {
  "kernelspec": {
   "display_name": "Python 3 (ipykernel)",
   "language": "python",
   "name": "python3"
  },
  "language_info": {
   "codemirror_mode": {
    "name": "ipython",
    "version": 3
   },
   "file_extension": ".py",
   "mimetype": "text/x-python",
   "name": "python",
   "nbconvert_exporter": "python",
   "pygments_lexer": "ipython3",
   "version": "3.10.6"
  }
 },
 "nbformat": 4,
 "nbformat_minor": 5
}
