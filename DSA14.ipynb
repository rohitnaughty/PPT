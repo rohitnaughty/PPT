{
 "cells": [
  {
   "cell_type": "markdown",
   "id": "35ff4d87-7a06-4c5d-afdb-37d3cfb162b2",
   "metadata": {},
   "source": [
    "💡 Question 1\n",
    "\n",
    "Given a linked list of N nodes such that it may contain a loop.\n",
    "\n",
    "A loop here means that the last node of the link list is connected to the node at position X(1-based index). If the link list does not have any loop, X=0.\n",
    "\n",
    "Remove the loop from the linked list, if it is present, i.e. unlink the last node which is forming the loop."
   ]
  },
  {
   "cell_type": "code",
   "execution_count": 2,
   "id": "fa604ec2-a1ff-4ee3-a695-fc19030f24d5",
   "metadata": {},
   "outputs": [
    {
     "ename": "NameError",
     "evalue": "name 'node' is not defined",
     "output_type": "error",
     "traceback": [
      "\u001b[0;31m---------------------------------------------------------------------------\u001b[0m",
      "\u001b[0;31mNameError\u001b[0m                                 Traceback (most recent call last)",
      "Cell \u001b[0;32mIn [2], line 32\u001b[0m\n\u001b[1;32m     29\u001b[0m     \u001b[38;5;28mprint\u001b[39m()\n\u001b[1;32m     31\u001b[0m \u001b[38;5;66;03m# Create a sample linked list with a loop\u001b[39;00m\n\u001b[0;32m---> 32\u001b[0m head \u001b[38;5;241m=\u001b[39m \u001b[43mnode\u001b[49m(\u001b[38;5;241m1\u001b[39m)\n\u001b[1;32m     33\u001b[0m node2 \u001b[38;5;241m=\u001b[39m node(\u001b[38;5;241m2\u001b[39m)\n\u001b[1;32m     34\u001b[0m node3 \u001b[38;5;241m=\u001b[39m node(\u001b[38;5;241m3\u001b[39m)\n",
      "\u001b[0;31mNameError\u001b[0m: name 'node' is not defined"
     ]
    }
   ],
   "source": [
    "def remove_loop(head):\n",
    "    # Step 1: Find the meeting point of slow and fast pointers\n",
    "    slow = fast = head\n",
    "    while fast and fast.next:\n",
    "        slow = slow.next\n",
    "        fast = fast.next.next\n",
    "        if slow == fast:\n",
    "            break\n",
    "\n",
    "    # No loop found, return without making any changes\n",
    "    if not fast or not fast.next:\n",
    "        return head\n",
    "\n",
    "    # Step 2: Reset slow pointer to the head and move both pointers one step at a time\n",
    "    slow = head\n",
    "    while slow.next != fast.next:\n",
    "        slow = slow.next\n",
    "        fast = fast.next\n",
    "\n",
    "\n",
    "    fast.next = None\n",
    "\n",
    "    return head\n",
    "def print_linked_list(head):\n",
    "    node = head\n",
    "    while node:\n",
    "        print(node.data, end=\" \")\n",
    "        node = node.next\n",
    "    print()\n",
    "\n",
    "# Create a sample linked list with a loop\n",
    "head = node(1)\n",
    "node2 = node(2)\n",
    "node3 = node(3)\n",
    "node4 = node(4)\n",
    "node5 = node(5)\n",
    "node6 = node(6)\n",
    "head.next = node2\n",
    "node2.next = node3\n",
    "node3.next = node4\n",
    "node4.next = node5\n",
    "node5.next = node6\n",
    "node6.next = node3  # Creating a loop\n",
    "\n",
    "# Call the remove_loop function\n",
    "head = remove_loop(head)\n",
    "\n",
    "# Print the modified linked list\n",
    "print_linked_list(head)"
   ]
  },
  {
   "cell_type": "markdown",
   "id": "fc00881e-fff3-4656-9492-f32476864470",
   "metadata": {},
   "source": [
    "💡 Question 2\n",
    "\n",
    "A number N is represented in Linked List such that each digit corresponds to a node in linked list. You need to add 1 to it."
   ]
  },
  {
   "cell_type": "code",
   "execution_count": 3,
   "id": "fb19d4e1-9713-4931-a78f-d3141f151e7c",
   "metadata": {},
   "outputs": [
    {
     "name": "stdout",
     "output_type": "stream",
     "text": [
      "1 2 4 "
     ]
    }
   ],
   "source": [
    "class Node:\n",
    "    def __init__(self, data):\n",
    "        self.data = data\n",
    "        self.next = None\n",
    "\n",
    "def add_one(head):\n",
    "    # Step 1: Find the rightmost non-9 digit\n",
    "    node_not_nine = None\n",
    "    current = head\n",
    "    while current:\n",
    "        if current.data != 9:\n",
    "            node_not_nine = current\n",
    "        current = current.next\n",
    "\n",
    "    # Step 2: Handle the case when all digits are 9\n",
    "    if not node_not_nine:\n",
    "        new_head = Node(1)\n",
    "        new_head.next = head\n",
    "        head = new_head\n",
    "\n",
    "    else:\n",
    "        # Step 3: Increment the non-9 digit by 1\n",
    "        node_not_nine.data += 1\n",
    "\n",
    "        # Step 4: Set all nodes to the right of the non-9 digit to 0\n",
    "        current = node_not_nine.next\n",
    "        while current:\n",
    "            current.data = 0\n",
    "            current = current.next\n",
    "\n",
    "    return head\n",
    "# Create a sample linked list representing the number 123\n",
    "head = Node(1)\n",
    "node2 = Node(2)\n",
    "node3 = Node(3)\n",
    "head.next = node2\n",
    "node2.next = node3\n",
    "\n",
    "# Add 1 to the linked list\n",
    "head = add_one(head)\n",
    "\n",
    "# Print the modified linked list\n",
    "current = head\n",
    "while current:\n",
    "    print(current.data, end=\" \")\n",
    "    current = current.next"
   ]
  },
  {
   "cell_type": "markdown",
   "id": "df577285-ae51-4013-8059-5ab322ed8153",
   "metadata": {},
   "source": [
    "💡 Question 3\n",
    "\n",
    "Given a Linked List of size N, where every node represents a sub-linked-list and contains two pointers:(i) a next pointer to the next node,(ii) a bottom pointer to a linked list where this node is head.Each of the sub-linked-list is in sorted order.Flatten the Link List such that all the nodes appear in a single level while maintaining the sorted order. Note: The flattened list will be printed using the bottom pointer instead of next pointer."
   ]
  },
  {
   "cell_type": "code",
   "execution_count": 4,
   "id": "5e7af887-3c69-4825-92da-8117fe40f858",
   "metadata": {},
   "outputs": [
    {
     "name": "stdout",
     "output_type": "stream",
     "text": [
      "5 7 8 10 19 20 22 28 30 35 40 45 50 "
     ]
    }
   ],
   "source": [
    "class Node:\n",
    "    def __init__(self, data):\n",
    "        self.data = data\n",
    "        self.next = None\n",
    "        self.bottom = None\n",
    "\n",
    "def merge(list1, list2):\n",
    "    # Base cases\n",
    "    if not list1:\n",
    "        return list2\n",
    "    if not list2:\n",
    "        return list1\n",
    "\n",
    "    # Create a dummy node to hold the result\n",
    "    dummy = Node(0)\n",
    "    result = dummy\n",
    "\n",
    "    # Merge the lists in sorted order\n",
    "    while list1 and list2:\n",
    "        if list1.data < list2.data:\n",
    "            result.bottom = list1\n",
    "            list1 = list1.bottom\n",
    "        else:\n",
    "            result.bottom = list2\n",
    "            list2 = list2.bottom\n",
    "        result = result.bottom\n",
    "\n",
    "    # Append any remaining nodes from list1 or list2\n",
    "    if list1:\n",
    "        result.bottom = list1\n",
    "    else:\n",
    "        result.bottom = list2\n",
    "\n",
    "    return dummy.bottom\n",
    "\n",
    "def flatten(head):\n",
    "    # Base case: an empty list or a single node list\n",
    "    if not head or not head.next:\n",
    "        return head\n",
    "\n",
    "    # Recursively flatten the rest of the list\n",
    "    head.next = flatten(head.next)\n",
    "\n",
    "    # Merge the current list with the flattened rest of the list\n",
    "    head = merge(head, head.next)\n",
    "\n",
    "    return head\n",
    "# Create a sample linked list with sub-linked lists\n",
    "head = Node(5)\n",
    "head.bottom = Node(7)\n",
    "head.bottom.bottom = Node(8)\n",
    "head.bottom.bottom.bottom = Node(30)\n",
    "\n",
    "head.next = Node(10)\n",
    "head.next.bottom = Node(20)\n",
    "\n",
    "head.next.next = Node(19)\n",
    "head.next.next.bottom = Node(22)\n",
    "head.next.next.bottom.bottom = Node(50)\n",
    "\n",
    "head.next.next.next = Node(28)\n",
    "head.next.next.next.bottom = Node(35)\n",
    "head.next.next.next.bottom.bottom = Node(40)\n",
    "head.next.next.next.bottom.bottom.bottom = Node(45)\n",
    "\n",
    "# Flatten the linked list\n",
    "head = flatten(head)\n",
    "\n",
    "# Print the flattened linked list\n",
    "current = head\n",
    "while current:\n",
    "    print(current.data, end=\" \")\n",
    "    current = current.bottom"
   ]
  },
  {
   "cell_type": "markdown",
   "id": "c14f5aa6-aa30-4294-bd71-872b6f227e11",
   "metadata": {},
   "source": [
    "💡 Question 4\n",
    "\n",
    "You are given a special linked list with N nodes where each node has a next pointer pointing to its next node. You are also given M random pointers, where you will be given M number of pairs denoting two nodes a and b  i.e. a->arb = b (arb is pointer to random node).\n",
    "\n",
    "Construct a copy of the given list. The copy should consist of exactly N new nodes, where each new node has its value set to the value of its corresponding original node. Both the next and random pointer of the new nodes should point to new nodes in the copied list such that the pointers in the original list and copied list represent the same list state. None of the pointers in the new list should point to nodes in the original list.\n",
    "\n",
    "For example, if there are two nodes X and Y in the original list, where X.arb --> Y, then for the corresponding two nodes x and y in the copied list, x.arb --> y.\n",
    "\n",
    "Return the head of the copied linked list. Note :- The diagram isn't part of any example, it just depicts an example of how the linked list may look like."
   ]
  },
  {
   "cell_type": "code",
   "execution_count": 5,
   "id": "4bd4430d-2f27-487c-a327-62689dc096eb",
   "metadata": {},
   "outputs": [
    {
     "name": "stdout",
     "output_type": "stream",
     "text": [
      "Node: A, Random: C\n",
      "Node: B, Random: A\n",
      "Node: C, Random: D\n",
      "Node: D, Random: B\n"
     ]
    }
   ],
   "source": [
    "class Node:\n",
    "    def __init__(self, data):\n",
    "        self.data = data\n",
    "        self.next = None\n",
    "        self.random = None\n",
    "\n",
    "def copy_random_list(head):\n",
    "    # Step 1: Create a copy of each node and insert it between the original nodes\n",
    "    current = head\n",
    "    while current:\n",
    "        new_node = Node(current.data)\n",
    "        new_node.next = current.next\n",
    "        current.next = new_node\n",
    "        current = new_node.next\n",
    "\n",
    "    # Step 2: Adjust the random pointers of the copied nodes\n",
    "    current = head\n",
    "    while current:\n",
    "        if current.random:\n",
    "            current.next.random = current.random.next\n",
    "        current = current.next.next\n",
    "\n",
    "    # Step 3: Separate the modified list into two separate lists\n",
    "    original_head = head\n",
    "    copy_head = head.next\n",
    "    copy_current = copy_head\n",
    "    while original_head:\n",
    "        original_head.next = copy_current.next\n",
    "        original_head = original_head.next\n",
    "        if copy_current.next:\n",
    "            copy_current.next = copy_current.next.next\n",
    "        copy_current = copy_current.next\n",
    "\n",
    "    # Step 4: Return the head of the copied list\n",
    "    return copy_head\n",
    "# Create a sample linked list with random pointers\n",
    "A = Node('A')\n",
    "B = Node('B')\n",
    "C = Node('C')\n",
    "D = Node('D')\n",
    "A.next = B\n",
    "B.next = C\n",
    "C.next = D\n",
    "A.random = C\n",
    "B.random = A\n",
    "C.random = D\n",
    "D.random = B\n",
    "\n",
    "# Copy the random list\n",
    "copied_head = copy_random_list(A)\n",
    "\n",
    "# Traverse the copied list and print the values and random pointers\n",
    "current = copied_head\n",
    "while current:\n",
    "    print(f\"Node: {current.data}, Random: {current.random.data if current.random else None}\")\n",
    "    current = current.next"
   ]
  },
  {
   "cell_type": "markdown",
   "id": "7e5f17a6-741c-406e-8099-dd85f2bfcda1",
   "metadata": {},
   "source": [
    "💡 Question 5\n",
    "\n",
    "Given the head of a singly linked list, group all the nodes with odd indices together followed by the nodes with even indices, and return the reordered list.\n",
    "\n",
    "The first node is considered odd, and the second node is even, and so on.\n",
    "\n",
    "Note that the relative order inside both the even and odd groups should remain as it was in the input.\n",
    "\n",
    "You must solve the problem in O(1) extra space complexity and O(n) time complexity."
   ]
  },
  {
   "cell_type": "code",
   "execution_count": 6,
   "id": "8b62992a-7994-49c1-b13c-19d38ce3096b",
   "metadata": {},
   "outputs": [
    {
     "name": "stdout",
     "output_type": "stream",
     "text": [
      "1 3 5 2 4 "
     ]
    }
   ],
   "source": [
    "class ListNode:\n",
    "    def __init__(self, val=0, next=None):\n",
    "        self.val = val\n",
    "        self.next = next\n",
    "\n",
    "def odd_even_list(head):\n",
    "    if not head or not head.next:\n",
    "        return head\n",
    "\n",
    "    odd_head = head\n",
    "    even_head = head.next\n",
    "    odd_current = odd_head\n",
    "    even_current = even_head\n",
    "\n",
    "    while even_current and even_current.next:\n",
    "        odd_current.next = even_current.next\n",
    "        odd_current = odd_current.next\n",
    "        even_current.next = odd_current.next\n",
    "        even_current = even_current.next\n",
    "\n",
    "    odd_current.next = even_head\n",
    "\n",
    "    return odd_head\n",
    "# Create a sample linked list\n",
    "head = ListNode(1)\n",
    "node2 = ListNode(2)\n",
    "node3 = ListNode(3)\n",
    "node4 = ListNode(4)\n",
    "node5 = ListNode(5)\n",
    "head.next = node2\n",
    "node2.next = node3\n",
    "node3.next = node4\n",
    "node4.next = node5\n",
    "\n",
    "# Reorder the list\n",
    "reordered_head = odd_even_list(head)\n",
    "\n",
    "# Traverse and print the reordered list\n",
    "current = reordered_head\n",
    "while current:\n",
    "    print(current.val, end=\" \")\n",
    "    current = current.next"
   ]
  },
  {
   "cell_type": "markdown",
   "id": "60507b87-ed98-4b89-b089-250745b70dc9",
   "metadata": {},
   "source": [
    "💡 Question 6\n",
    "\n",
    "Given a singly linked list of size N. The task is to left-shift the linked list by k nodes, where k is a given positive integer smaller than or equal to length of the linked list."
   ]
  },
  {
   "cell_type": "code",
   "execution_count": 7,
   "id": "922f472a-a34e-4aff-ab77-417f1d3666f1",
   "metadata": {},
   "outputs": [
    {
     "name": "stdout",
     "output_type": "stream",
     "text": [
      "3 4 5 1 2 "
     ]
    }
   ],
   "source": [
    "class ListNode:\n",
    "    def __init__(self, val=0, next=None):\n",
    "        self.val = val\n",
    "        self.next = next\n",
    "\n",
    "def left_shift_linked_list(head, k):\n",
    "    if not head or not head.next or k == 0:\n",
    "        return head\n",
    "\n",
    "    # Find the kth node from the beginning\n",
    "    current = head\n",
    "    for _ in range(k - 1):\n",
    "        current = current.next\n",
    "        if not current:\n",
    "            return head  # k is equal to the length of the list, no shifting required\n",
    "\n",
    "    # Set the new head and find the end of the original list\n",
    "    new_head = current.next\n",
    "    current.next = None\n",
    "    current = new_head\n",
    "    while current.next:\n",
    "        current = current.next\n",
    "\n",
    "    # Connect the end of the original list to the original head\n",
    "    current.next = head\n",
    "\n",
    "    return new_head\n",
    "# Create a sample linked list\n",
    "head = ListNode(1)\n",
    "node2 = ListNode(2)\n",
    "node3 = ListNode(3)\n",
    "node4 = ListNode(4)\n",
    "node5 = ListNode(5)\n",
    "head.next = node2\n",
    "node2.next = node3\n",
    "node3.next = node4\n",
    "node4.next = node5\n",
    "\n",
    "# Left shift the list by k nodes\n",
    "k = 2\n",
    "shifted_head = left_shift_linked_list(head, k)\n",
    "\n",
    "# Traverse and print the shifted list\n",
    "current = shifted_head\n",
    "while current:\n",
    "    print(current.val, end=\" \")\n",
    "    current = current.next"
   ]
  },
  {
   "cell_type": "markdown",
   "id": "27c42dcf-6269-4fdf-b479-592afe2343cf",
   "metadata": {},
   "source": [
    "💡 Question 7\n",
    "\n",
    "You are given the head of a linked list with n nodes.\n",
    "\n",
    "For each node in the list, find the value of the next greater node. That is, for each node, find the value of the first node that is next to it and has a strictly larger value than it.\n",
    "\n",
    "Return an integer array answer where answer[i] is the value of the next greater node of the ith node (1-indexed). If the ith node does not have a next greater node, set answer[i] = 0."
   ]
  },
  {
   "cell_type": "code",
   "execution_count": 8,
   "id": "f8e81243-3f26-497c-beb9-42c851fd381d",
   "metadata": {},
   "outputs": [
    {
     "name": "stdout",
     "output_type": "stream",
     "text": [
      "[0, 5, 0]\n"
     ]
    }
   ],
   "source": [
    "class ListNode:\n",
    "    def __init__(self, val=0, next=None):\n",
    "        self.val = val\n",
    "        self.next = next\n",
    "\n",
    "def next_greater_nodes(head):\n",
    "    if not head:\n",
    "        return []\n",
    "\n",
    "    # Step 1: Traverse the linked list and maintain a stack\n",
    "    stack = []\n",
    "    current = head\n",
    "    answer = []\n",
    "    while current:\n",
    "        while stack and stack[-1][0] < current.val:\n",
    "            _, idx = stack.pop()\n",
    "            answer[idx] = current.val\n",
    "        stack.append((current.val, len(stack)))\n",
    "        answer.append(0)  # Initialize answer for the current node\n",
    "        current = current.next\n",
    "\n",
    "    # Step 2: Handle the remaining elements in the stack\n",
    "    while stack:\n",
    "        _, idx = stack.pop()\n",
    "        answer[idx] = 0\n",
    "\n",
    "    return answer\n",
    "head = ListNode(2)\n",
    "node2 = ListNode(1)\n",
    "node3 = ListNode(5)\n",
    "head.next = node2\n",
    "node2.next = node3\n",
    "\n",
    "# Find the next greater nodes\n",
    "answer = next_greater_nodes(head)\n",
    "\n",
    "# Print the answer array\n",
    "print(answer)"
   ]
  },
  {
   "cell_type": "markdown",
   "id": "0b06baea-579f-4bc8-89ed-3bb9197597db",
   "metadata": {},
   "source": [
    "💡 Question 8\n",
    "\n",
    "Given the head of a linked list, we repeatedly delete consecutive sequences of nodes that sum to 0 until there are no such sequences.\n",
    "\n",
    "After doing so, return the head of the final linked list.  You may return any such answer.\n",
    "\n",
    "(Note that in the examples below, all sequences are serializations of ListNode objects.)"
   ]
  },
  {
   "cell_type": "code",
   "execution_count": 9,
   "id": "c29caf51-b670-4a25-8650-157d8f7cb467",
   "metadata": {},
   "outputs": [
    {
     "name": "stdout",
     "output_type": "stream",
     "text": [
      "3 1 "
     ]
    }
   ],
   "source": [
    "class ListNode:\n",
    "    def __init__(self, val=0, next=None):\n",
    "        self.val = val\n",
    "        self.next = next\n",
    "\n",
    "def remove_zero_sum_sublists(head):\n",
    "    # Create a dummy node to handle modifications\n",
    "    dummy = ListNode(0)\n",
    "    dummy.next = head\n",
    "\n",
    "    current = dummy\n",
    "    running_sum = 0\n",
    "    sum_map = {}  # Map of running sum to the node that last had this sum\n",
    "\n",
    "    while current:\n",
    "        running_sum += current.val\n",
    "\n",
    "        if running_sum in sum_map:\n",
    "            # Delete the sequence with sum zero\n",
    "            prev = sum_map[running_sum].next\n",
    "            temp_sum = running_sum + prev.val\n",
    "            while prev != current:\n",
    "                del sum_map[temp_sum]  # Remove the running sums of the deleted nodes\n",
    "                prev = prev.next\n",
    "                temp_sum += prev.val\n",
    "            sum_map[running_sum].next = current.next\n",
    "        else:\n",
    "            sum_map[running_sum] = current\n",
    "\n",
    "        current = current.next\n",
    "\n",
    "    return dummy.next\n",
    "# Create a sample linked list\n",
    "head = ListNode(1)\n",
    "node2 = ListNode(2)\n",
    "node3 = ListNode(-3)\n",
    "node4 = ListNode(3)\n",
    "node5 = ListNode(1)\n",
    "head.next = node2\n",
    "node2.next = node3\n",
    "node3.next = node4\n",
    "node4.next = node5\n",
    "\n",
    "# Remove zero sum sublists\n",
    "new_head = remove_zero_sum_sublists(head)\n",
    "\n",
    "# Traverse and print the modified list\n",
    "current = new_head\n",
    "while current:\n",
    "    print(current.val, end=\" \")\n",
    "    current = current.next"
   ]
  },
  {
   "cell_type": "code",
   "execution_count": null,
   "id": "2ed53ef6-3634-409d-a040-5fbfa4e5de42",
   "metadata": {},
   "outputs": [],
   "source": []
  },
  {
   "cell_type": "code",
   "execution_count": null,
   "id": "e142bde4-3617-4ecc-bceb-d75f82180b8a",
   "metadata": {},
   "outputs": [],
   "source": []
  },
  {
   "cell_type": "code",
   "execution_count": null,
   "id": "ba3aebcc-ffc6-4259-8415-ceab809a2705",
   "metadata": {},
   "outputs": [],
   "source": []
  },
  {
   "cell_type": "code",
   "execution_count": null,
   "id": "cab7f205-8b16-41f8-90df-f21ed266793c",
   "metadata": {},
   "outputs": [],
   "source": []
  },
  {
   "cell_type": "code",
   "execution_count": null,
   "id": "3f5a3405-4d75-481f-850a-fdac9418ab49",
   "metadata": {},
   "outputs": [],
   "source": []
  },
  {
   "cell_type": "code",
   "execution_count": null,
   "id": "2d16de97-0bb5-4f3e-baf6-60b5b31e9108",
   "metadata": {},
   "outputs": [],
   "source": []
  },
  {
   "cell_type": "code",
   "execution_count": null,
   "id": "d7eb254c-6ede-44b9-93c7-871451d73338",
   "metadata": {},
   "outputs": [],
   "source": []
  },
  {
   "cell_type": "code",
   "execution_count": null,
   "id": "f20ca107-5f3e-4a58-91f9-cc7aeb0331f5",
   "metadata": {},
   "outputs": [],
   "source": []
  },
  {
   "cell_type": "code",
   "execution_count": null,
   "id": "58fdca6e-fcce-4c75-8390-baf092fbf7c9",
   "metadata": {},
   "outputs": [],
   "source": []
  },
  {
   "cell_type": "code",
   "execution_count": null,
   "id": "d7247b22-ac50-40b8-8e92-d9b244313ddf",
   "metadata": {},
   "outputs": [],
   "source": []
  },
  {
   "cell_type": "code",
   "execution_count": null,
   "id": "49407404-d8ab-4926-83d8-ec32e9cc4496",
   "metadata": {},
   "outputs": [],
   "source": []
  },
  {
   "cell_type": "code",
   "execution_count": null,
   "id": "c87915be-c4fe-48b8-8fb1-a57ef36890f0",
   "metadata": {},
   "outputs": [],
   "source": []
  },
  {
   "cell_type": "code",
   "execution_count": null,
   "id": "84b4af98-64e0-4619-9935-de98c4346bd1",
   "metadata": {},
   "outputs": [],
   "source": []
  },
  {
   "cell_type": "code",
   "execution_count": null,
   "id": "b9641180-d5b0-45fb-8413-aa377449f418",
   "metadata": {},
   "outputs": [],
   "source": []
  },
  {
   "cell_type": "code",
   "execution_count": null,
   "id": "41167caf-623f-4138-ba3a-77fbc31ff8aa",
   "metadata": {},
   "outputs": [],
   "source": []
  },
  {
   "cell_type": "code",
   "execution_count": null,
   "id": "399b20c6-707c-4575-853c-10ea6b2cea01",
   "metadata": {},
   "outputs": [],
   "source": []
  },
  {
   "cell_type": "code",
   "execution_count": null,
   "id": "0debf73f-eb15-4b55-89e7-cbf2fda83dac",
   "metadata": {},
   "outputs": [],
   "source": []
  },
  {
   "cell_type": "code",
   "execution_count": null,
   "id": "0b25b4fc-c647-448b-9258-4d54603f621a",
   "metadata": {},
   "outputs": [],
   "source": []
  },
  {
   "cell_type": "code",
   "execution_count": null,
   "id": "18efe22a-82d9-45b7-b4f5-bba3951da643",
   "metadata": {},
   "outputs": [],
   "source": []
  },
  {
   "cell_type": "code",
   "execution_count": null,
   "id": "fb7450ef-6925-416a-bd0f-531cb2d6bc9c",
   "metadata": {},
   "outputs": [],
   "source": []
  },
  {
   "cell_type": "code",
   "execution_count": null,
   "id": "3b3e3f12-8d57-44a1-901c-c44a7aafc93d",
   "metadata": {},
   "outputs": [],
   "source": []
  },
  {
   "cell_type": "code",
   "execution_count": null,
   "id": "c1061f23-b35a-4b84-be76-2277f72b4c87",
   "metadata": {},
   "outputs": [],
   "source": []
  },
  {
   "cell_type": "code",
   "execution_count": null,
   "id": "b081733d-52bb-44d1-bb65-2d38c7951e7d",
   "metadata": {},
   "outputs": [],
   "source": []
  },
  {
   "cell_type": "code",
   "execution_count": null,
   "id": "67ed5ba5-0dff-4ae5-819f-5bbafe70392d",
   "metadata": {},
   "outputs": [],
   "source": []
  },
  {
   "cell_type": "code",
   "execution_count": null,
   "id": "2eb13be8-a764-4f0c-8e4f-717dfeffcd4c",
   "metadata": {},
   "outputs": [],
   "source": []
  },
  {
   "cell_type": "code",
   "execution_count": null,
   "id": "7b4c0a8a-3358-4152-83d2-5944b7d2023a",
   "metadata": {},
   "outputs": [],
   "source": []
  },
  {
   "cell_type": "code",
   "execution_count": null,
   "id": "aa76cdc6-7932-49ea-901e-404103bfbc27",
   "metadata": {},
   "outputs": [],
   "source": []
  },
  {
   "cell_type": "code",
   "execution_count": null,
   "id": "083f3e03-95e1-40cb-be6d-a29959b26941",
   "metadata": {},
   "outputs": [],
   "source": []
  },
  {
   "cell_type": "code",
   "execution_count": null,
   "id": "c6e20ca1-282a-4925-a8cd-5b3cae012b9c",
   "metadata": {},
   "outputs": [],
   "source": []
  },
  {
   "cell_type": "code",
   "execution_count": null,
   "id": "3783bc35-37fb-477f-a717-fe9650ffba33",
   "metadata": {},
   "outputs": [],
   "source": []
  },
  {
   "cell_type": "code",
   "execution_count": null,
   "id": "4628b9bc-06fb-45d0-aae5-04fbbeaeddf2",
   "metadata": {},
   "outputs": [],
   "source": []
  },
  {
   "cell_type": "code",
   "execution_count": null,
   "id": "cdba7a24-ba80-4fc2-bd3a-f78b374f9cc7",
   "metadata": {},
   "outputs": [],
   "source": []
  },
  {
   "cell_type": "code",
   "execution_count": null,
   "id": "11664464-564c-419e-b523-33140d619078",
   "metadata": {},
   "outputs": [],
   "source": []
  },
  {
   "cell_type": "code",
   "execution_count": null,
   "id": "89dc9c4c-7f57-450b-8c57-e296d2781eac",
   "metadata": {},
   "outputs": [],
   "source": []
  },
  {
   "cell_type": "code",
   "execution_count": null,
   "id": "c4442fca-7607-424a-8d77-d6fb4c4eabbe",
   "metadata": {},
   "outputs": [],
   "source": []
  },
  {
   "cell_type": "code",
   "execution_count": null,
   "id": "db9d95db-787c-4691-9d99-6b83adc350d6",
   "metadata": {},
   "outputs": [],
   "source": []
  },
  {
   "cell_type": "code",
   "execution_count": null,
   "id": "23411043-4954-41dc-a9ed-a80e23b7bfa0",
   "metadata": {},
   "outputs": [],
   "source": []
  },
  {
   "cell_type": "code",
   "execution_count": null,
   "id": "d687d053-576d-4f08-9d92-49b97b1100e1",
   "metadata": {},
   "outputs": [],
   "source": []
  },
  {
   "cell_type": "code",
   "execution_count": null,
   "id": "4516fc46-09cc-4a23-91ea-e3eb1bd09d52",
   "metadata": {},
   "outputs": [],
   "source": []
  },
  {
   "cell_type": "code",
   "execution_count": null,
   "id": "ab295098-c3ea-40a0-be26-f550c60dceed",
   "metadata": {},
   "outputs": [],
   "source": []
  },
  {
   "cell_type": "code",
   "execution_count": null,
   "id": "4c722f54-b916-44ea-a4f2-02ade05df60e",
   "metadata": {},
   "outputs": [],
   "source": []
  },
  {
   "cell_type": "code",
   "execution_count": null,
   "id": "a55e09f0-1b0d-42c7-99fc-d12c656cc292",
   "metadata": {},
   "outputs": [],
   "source": []
  },
  {
   "cell_type": "code",
   "execution_count": null,
   "id": "c902bdad-7951-4b76-b815-287df683c7d7",
   "metadata": {},
   "outputs": [],
   "source": []
  },
  {
   "cell_type": "code",
   "execution_count": null,
   "id": "b48acb52-9126-4e0b-bee9-792c82050b77",
   "metadata": {},
   "outputs": [],
   "source": []
  },
  {
   "cell_type": "code",
   "execution_count": null,
   "id": "2fcdebb3-e994-427b-a11d-11404b59d85e",
   "metadata": {},
   "outputs": [],
   "source": []
  },
  {
   "cell_type": "code",
   "execution_count": null,
   "id": "93620086-5f22-4454-98dd-b743640f6175",
   "metadata": {},
   "outputs": [],
   "source": []
  },
  {
   "cell_type": "code",
   "execution_count": null,
   "id": "e213f04f-1a46-4525-8e67-3cfc30271e73",
   "metadata": {},
   "outputs": [],
   "source": []
  },
  {
   "cell_type": "code",
   "execution_count": null,
   "id": "dafac93c-d187-41b9-ada1-d64808467858",
   "metadata": {},
   "outputs": [],
   "source": []
  },
  {
   "cell_type": "code",
   "execution_count": null,
   "id": "883c11c8-37db-4411-809e-2840a3bfa704",
   "metadata": {},
   "outputs": [],
   "source": []
  },
  {
   "cell_type": "code",
   "execution_count": null,
   "id": "695abc32-5f88-4118-99e5-b07d0bb061f4",
   "metadata": {},
   "outputs": [],
   "source": []
  },
  {
   "cell_type": "code",
   "execution_count": null,
   "id": "ea0fed1c-93c1-467f-93df-cb5dfb0bef8e",
   "metadata": {},
   "outputs": [],
   "source": []
  },
  {
   "cell_type": "code",
   "execution_count": null,
   "id": "acd099fb-d487-4588-b297-e51ae89cfab4",
   "metadata": {},
   "outputs": [],
   "source": []
  },
  {
   "cell_type": "code",
   "execution_count": null,
   "id": "63936d32-0703-4e8b-983f-79d738023068",
   "metadata": {},
   "outputs": [],
   "source": []
  },
  {
   "cell_type": "code",
   "execution_count": null,
   "id": "890ab6be-d82b-4c3f-ae69-ad7806206679",
   "metadata": {},
   "outputs": [],
   "source": []
  },
  {
   "cell_type": "code",
   "execution_count": null,
   "id": "2dba0156-6cda-46d2-8310-1a68e2eb8a70",
   "metadata": {},
   "outputs": [],
   "source": []
  }
 ],
 "metadata": {
  "kernelspec": {
   "display_name": "Python 3 (ipykernel)",
   "language": "python",
   "name": "python3"
  },
  "language_info": {
   "codemirror_mode": {
    "name": "ipython",
    "version": 3
   },
   "file_extension": ".py",
   "mimetype": "text/x-python",
   "name": "python",
   "nbconvert_exporter": "python",
   "pygments_lexer": "ipython3",
   "version": "3.10.6"
  }
 },
 "nbformat": 4,
 "nbformat_minor": 5
}
