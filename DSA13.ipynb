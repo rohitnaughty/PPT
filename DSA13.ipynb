{
 "cells": [
  {
   "cell_type": "markdown",
   "id": "5e0ab57d-f21f-4629-a35e-f420cdb507c0",
   "metadata": {},
   "source": [
    "\"\"\"Question 1\"\"\""
   ]
  },
  {
   "cell_type": "code",
   "execution_count": 1,
   "id": "91d6c5e6-ed21-4eba-a64b-04ba0b8f983d",
   "metadata": {},
   "outputs": [],
   "source": [
    "class Node:\n",
    "    def __init__(self, value):\n",
    "        self.data = value\n",
    "        self.next = None\n",
    "\n",
    "def create_new_linked_list(list1, list2):\n",
    "    new_list = None\n",
    "    tail = None\n",
    "\n",
    "    while list1 is not None and list2 is not None:\n",
    "        if list1.data > list2.data:\n",
    "            node = Node(list1.data)\n",
    "            list1 = list1.next\n",
    "        else:\n",
    "            node = Node(list2.data)\n",
    "            list2 = list2.next\n",
    "\n",
    "        if new_list is None:\n",
    "            new_list = node\n",
    "            tail = node\n",
    "        else:\n",
    "            tail.next = node\n",
    "            tail = tail.next\n",
    "\n",
    "    while list1 is not None:\n",
    "        node = Node(list1.data)\n",
    "        tail.next = node\n",
    "        tail = tail.next\n",
    "        list1 = list1.next\n",
    "\n",
    "    while list2 is not None:\n",
    "        node = Node(list2.data)\n",
    "        tail.next = node\n",
    "        tail = tail.next\n",
    "        list2 = list2.next\n",
    "\n",
    "    return new_list\n"
   ]
  },
  {
   "cell_type": "code",
   "execution_count": 2,
   "id": "9e4ffcb4-5d34-4731-a200-5f39aace73f1",
   "metadata": {},
   "outputs": [
    {
     "name": "stdout",
     "output_type": "stream",
     "text": [
      "New list: 5 2 3 8 1 7 4 5 "
     ]
    }
   ],
   "source": [
    "list1 = Node(5)\n",
    "list1.next = Node(2)\n",
    "list1.next.next = Node(3)\n",
    "list1.next.next.next = Node(8)\n",
    "\n",
    "list2 = Node(1)\n",
    "list2.next = Node(7)\n",
    "list2.next.next = Node(4)\n",
    "list2.next.next.next = Node(5)\n",
    "\n",
    "new_list = create_new_linked_list(list1, list2)\n",
    "print(\"New list:\", end=\" \")\n",
    "while new_list is not None:\n",
    "    print(new_list.data, end=\" \")\n",
    "    new_list = new_list.next\n",
    "     "
   ]
  },
  {
   "cell_type": "markdown",
   "id": "97d60151-ef67-4530-b51d-46a6a2903f9d",
   "metadata": {},
   "source": [
    "\"\"\"Question 2\"\"\""
   ]
  },
  {
   "cell_type": "code",
   "execution_count": 3,
   "id": "d33c4c8f-d88a-43dc-955d-a6841cbf57ff",
   "metadata": {},
   "outputs": [
    {
     "name": "stdout",
     "output_type": "stream",
     "text": [
      "Updated list: 11 21 43 60 "
     ]
    }
   ],
   "source": [
    "class Node:\n",
    "    def __init__(self, value):\n",
    "        self.data = value\n",
    "        self.next = None\n",
    "\n",
    "def remove_duplicates(head):\n",
    "    current = head\n",
    "\n",
    "    while current is not None and current.next is not None:\n",
    "        if current.data == current.next.data:\n",
    "            current.next = current.next.next\n",
    "        else:\n",
    "            current = current.next\n",
    "\n",
    "    return head\n",
    "\n",
    "\n",
    "     \n",
    "\n",
    "# Create the linked list\n",
    "head = Node(11)\n",
    "head.next = Node(11)\n",
    "head.next.next = Node(11)\n",
    "head.next.next.next = Node(21)\n",
    "head.next.next.next.next = Node(43)\n",
    "head.next.next.next.next.next = Node(43)\n",
    "head.next.next.next.next.next.next = Node(60)\n",
    "\n",
    "# Remove duplicates\n",
    "new_head = remove_duplicates(head)\n",
    "\n",
    "# Print the updated list\n",
    "print(\"Updated list:\", end=\" \")\n",
    "current = new_head\n",
    "while current is not None:\n",
    "    print(current.data, end=\" \")\n",
    "    current = current.next\n"
   ]
  },
  {
   "cell_type": "markdown",
   "id": "9a736bdd-645c-4147-bf19-b2b645e4611b",
   "metadata": {},
   "source": [
    "\"\"\"Question 3\"\"\""
   ]
  },
  {
   "cell_type": "code",
   "execution_count": 4,
   "id": "10afbe54-ad7d-414b-af11-90891dc43586",
   "metadata": {},
   "outputs": [
    {
     "name": "stdout",
     "output_type": "stream",
     "text": [
      "Reversed list: 4 2 2 1 8 7 6 5 "
     ]
    }
   ],
   "source": [
    "class Node:\n",
    "    def __init__(self, value):\n",
    "        self.data = value\n",
    "        self.next = None\n",
    "\n",
    "def reverse_k_nodes(head, k):\n",
    "    current = head\n",
    "    next = None\n",
    "    prev = None\n",
    "    count = 0\n",
    "\n",
    "    # Reverse k nodes\n",
    "    while current is not None and count < k:\n",
    "        next = current.next\n",
    "        current.next = prev\n",
    "        prev = current\n",
    "        current = next\n",
    "        count += 1\n",
    "\n",
    "    # Recursively reverse the remaining list\n",
    "    if next is not None:\n",
    "        head.next = reverse_k_nodes(next, k)\n",
    "\n",
    "    return prev\n",
    "\n",
    "\n",
    "     \n",
    "\n",
    "# Create the linked list\n",
    "head = Node(1)\n",
    "head.next = Node(2)\n",
    "head.next.next = Node(2)\n",
    "head.next.next.next = Node(4)\n",
    "head.next.next.next.next = Node(5)\n",
    "head.next.next.next.next.next = Node(6)\n",
    "head.next.next.next.next.next.next = Node(7)\n",
    "head.next.next.next.next.next.next.next = Node(8)\n",
    "\n",
    "# Reverse every k nodes\n",
    "k = 4\n",
    "new_head = reverse_k_nodes(head, k)\n",
    "\n",
    "# Print the reversed list\n",
    "print(\"Reversed list:\", end=\" \")\n",
    "current = new_head\n",
    "while current is not None:\n",
    "    print(current.data, end=\" \")\n",
    "    current = current.next\n"
   ]
  },
  {
   "cell_type": "markdown",
   "id": "045d345e-38b7-4d24-807f-b99b8a68841d",
   "metadata": {},
   "source": [
    "\"\"\"Question 4\"\"\""
   ]
  },
  {
   "cell_type": "code",
   "execution_count": 5,
   "id": "878000f0-fa00-493c-bc49-947d6dcc9e9b",
   "metadata": {},
   "outputs": [
    {
     "name": "stdout",
     "output_type": "stream",
     "text": [
      "Modified list: 3 2 1 4 5 6 9 8 7 "
     ]
    }
   ],
   "source": [
    "\n",
    "class Node:\n",
    "    def __init__(self, value):\n",
    "        self.data = value\n",
    "        self.next = None\n",
    "\n",
    "def reverse_alternate_k_nodes(head, k):\n",
    "    current = head\n",
    "    next = None\n",
    "    prev = None\n",
    "    count = 0\n",
    "\n",
    "    # Reverse k nodes\n",
    "    while current is not None and count < k:\n",
    "        next = current.next\n",
    "        current.next = prev\n",
    "        prev = current\n",
    "        current = next\n",
    "        count += 1\n",
    "\n",
    "    # Update the pointers of previous and next groups\n",
    "    if next is not None:\n",
    "        head.next = next\n",
    "\n",
    "    # Skip k nodes of the next group\n",
    "    count = 0\n",
    "    while count < k - 1 and next is not None:\n",
    "        next = next.next\n",
    "        count += 1\n",
    "\n",
    "    # Recursively reverse the alternate groups\n",
    "    if next is not None:\n",
    "        next.next = reverse_alternate_k_nodes(next.next, k)\n",
    "\n",
    "    return prev\n",
    "\n",
    "     \n",
    "\n",
    "# Create the linked list\n",
    "head = Node(1)\n",
    "head.next = Node(2)\n",
    "head.next.next = Node(3)\n",
    "head.next.next.next = Node(4)\n",
    "head.next.next.next.next = Node(5)\n",
    "head.next.next.next.next.next = Node(6)\n",
    "head.next.next.next.next.next.next = Node(7)\n",
    "head.next.next.next.next.next.next.next = Node(8)\n",
    "head.next.next.next.next.next.next.next.next = Node(9)\n",
    "\n",
    "# Reverse every alternate k nodes\n",
    "k = 3\n",
    "new_head = reverse_alternate_k_nodes(head, k)\n",
    "\n",
    "# Print the modified list\n",
    "print(\"Modified list:\", end=\" \")\n",
    "current = new_head\n",
    "while current is not None:\n",
    "    print(current.data, end=\" \")\n",
    "    current = current.next\n"
   ]
  },
  {
   "cell_type": "markdown",
   "id": "dad760d3-9c24-4709-a7d4-2d362dce9efb",
   "metadata": {},
   "source": [
    "\"\"\"Question 5\"\"\""
   ]
  },
  {
   "cell_type": "code",
   "execution_count": 12,
   "id": "5257bff4-ea86-4917-ad09-a66064c70396",
   "metadata": {},
   "outputs": [
    {
     "name": "stdout",
     "output_type": "stream",
     "text": [
      "Modified list: 1 2 3 5 10 "
     ]
    }
   ],
   "source": [
    "class Node:\n",
    "    def __init__(self, value):\n",
    "        self.data = value\n",
    "        self.next = None\n",
    "\n",
    "def delete_last_occurrence(head, key):\n",
    "    if head is None:\n",
    "        return head\n",
    "\n",
    "    last_occurrence = None\n",
    "    prev_last_occurrence = None\n",
    "    current = head\n",
    "    prev = None\n",
    "\n",
    "    # Traverse the list to find the last occurrence of the key\n",
    "    while current is not None:\n",
    "        if current.data == key:\n",
    "            last_occurrence = current\n",
    "            prev_last_occurrence = prev\n",
    "        prev = current\n",
    "        current = current.next\n",
    "\n",
    "    # If last occurrence is found, remove the node\n",
    "    if last_occurrence is not None:\n",
    "        if prev_last_occurrence is None:\n",
    "            # Last occurrence is the head, update the head\n",
    "            head = head.next\n",
    "        else:\n",
    "            # Update the next pointer of the previous node\n",
    "            prev_last_occurrence.next = last_occurrence.next\n",
    "\n",
    "    return head\n",
    "\n",
    "     \n",
    "\n",
    "# Create the linked list\n",
    "head = Node(1)\n",
    "head.next = Node(2)\n",
    "head.next.next = Node(3)\n",
    "head.next.next.next = Node(5)\n",
    "head.next.next.next.next = Node(2)\n",
    "head.next.next.next.next.next = Node(10)\n",
    "\n",
    "# Delete the last occurrence of key\n",
    "key = 2\n",
    "new_head = delete_last_occurrence(head, key)\n",
    "\n",
    "# Print the modified list\n",
    "print(\"Modified list:\", end=\" \")\n",
    "current = new_head\n",
    "while current is not None:\n",
    "    print(current.data, end=\" \")\n",
    "    current = current.next"
   ]
  },
  {
   "cell_type": "markdown",
   "id": "f36e2de1-b9fd-45c5-90aa-6b7a2df060d1",
   "metadata": {},
   "source": [
    "\"\"\"Question 6\"\"\""
   ]
  },
  {
   "cell_type": "code",
   "execution_count": 7,
   "id": "291553e7-b1af-4d6f-a751-7795de4974fa",
   "metadata": {},
   "outputs": [
    {
     "name": "stdout",
     "output_type": "stream",
     "text": [
      "Merged list: 2 3 5 10 15 20 "
     ]
    }
   ],
   "source": [
    "class Node:\n",
    "    def __init__(self, value):\n",
    "        self.data = value\n",
    "        self.next = None\n",
    "\n",
    "def merge_sorted_lists(head1, head2):\n",
    "    # Create a dummy node and a tail node\n",
    "    dummy = Node(None)\n",
    "    tail = dummy\n",
    "\n",
    "    while head1 is not None and head2 is not None:\n",
    "        if head1.data <= head2.data:\n",
    "            tail.next = head1\n",
    "            head1 = head1.next\n",
    "        else:\n",
    "            tail.next = head2\n",
    "            head2 = head2.next\n",
    "        tail = tail.next\n",
    "\n",
    "    # Append remaining nodes of list1 or list2\n",
    "    if head1 is not None:\n",
    "        tail.next = head1\n",
    "    elif head2 is not None:\n",
    "        tail.next = head2\n",
    "\n",
    "    return dummy.next\n",
    "\n",
    "     \n",
    "\n",
    "# Create the first sorted list\n",
    "a = Node(5)\n",
    "a.next = Node(10)\n",
    "a.next.next = Node(15)\n",
    "\n",
    "# Create the second sorted list\n",
    "b = Node(2)\n",
    "b.next = Node(3)\n",
    "b.next.next = Node(20)\n",
    "\n",
    "# Merge the two sorted lists\n",
    "merged_head = merge_sorted_lists(a, b)\n",
    "\n",
    "# Print the merged list\n",
    "print(\"Merged list:\", end=\" \")\n",
    "current = merged_head\n",
    "while current is not None:\n",
    "    print(current.data, end=\" \")\n",
    "    current = current.next\n"
   ]
  },
  {
   "cell_type": "markdown",
   "id": "0872165f-0eee-4fef-920b-b869cef4607e",
   "metadata": {},
   "source": [
    "\"\"\"Question 1\"\"\""
   ]
  },
  {
   "cell_type": "code",
   "execution_count": 8,
   "id": "bcaa4f3b-690a-49b0-a428-589c73e3442b",
   "metadata": {},
   "outputs": [
    {
     "name": "stdout",
     "output_type": "stream",
     "text": [
      "Original Linked list: 10 8 4 2 \n",
      "Reversed Linked list: 2 4 8 10 "
     ]
    }
   ],
   "source": [
    "class Node:\n",
    "    def __init__(self, data):\n",
    "        self.data = data\n",
    "        self.prev = None\n",
    "        self.next = None\n",
    "\n",
    "def reverse_doubly_linked_list(head):\n",
    "    if head is None or head.next is None:\n",
    "        return head\n",
    "\n",
    "    prev = None\n",
    "    current = head\n",
    "\n",
    "    while current is not None:\n",
    "        next_node = current.next\n",
    "        current.next = prev\n",
    "        current.prev = next_node\n",
    "        prev = current\n",
    "        current = next_node\n",
    "\n",
    "    head = prev\n",
    "    return head\n",
    "\n",
    "     \n",
    "\n",
    "# Create the original doubly linked list\n",
    "head = Node(10)\n",
    "head.next = Node(8)\n",
    "head.next.prev = head\n",
    "head.next.next = Node(4)\n",
    "head.next.next.prev = head.next\n",
    "head.next.next.next = Node(2)\n",
    "head.next.next.next.prev = head.next.next\n",
    "\n",
    "# Print the original list\n",
    "print(\"Original Linked list:\", end=\" \")\n",
    "current = head\n",
    "while current is not None:\n",
    "    print(current.data, end=\" \")\n",
    "    current = current.next\n",
    "print()\n",
    "\n",
    "# Reverse the doubly linked list\n",
    "reversed_head = reverse_doubly_linked_list(head)\n",
    "\n",
    "# Print the reversed list\n",
    "print(\"Reversed Linked list:\", end=\" \")\n",
    "current = reversed_head\n",
    "while current is not None:\n",
    "    print(current.data, end=\" \")\n",
    "    current = current.next\n"
   ]
  },
  {
   "cell_type": "code",
   "execution_count": 9,
   "id": "57dbe252-0142-422b-9e1b-9a1c9bc83a5b",
   "metadata": {},
   "outputs": [
    {
     "name": "stdout",
     "output_type": "stream",
     "text": [
      "Original Linked list: 1 3 4 \n",
      "Updated Linked list: 1 3 "
     ]
    }
   ],
   "source": [
    "class Node:\n",
    "    def __init__(self, data):\n",
    "        self.data = data\n",
    "        self.prev = None\n",
    "        self.next = None\n",
    "\n",
    "def delete_node_from_position(head, position):\n",
    "    if head is None:\n",
    "        return head\n",
    "\n",
    "    if position == 1:\n",
    "        new_head = head.next\n",
    "        if new_head is not None:\n",
    "            new_head.prev = None\n",
    "        return new_head\n",
    "\n",
    "    current = head\n",
    "    for _ in range(position - 1):\n",
    "        if current is None:\n",
    "            return head\n",
    "        current = current.next\n",
    "\n",
    "    if current is None:\n",
    "        return head\n",
    "\n",
    "    prev_node = current.prev\n",
    "    next_node = current.next\n",
    "\n",
    "    if prev_node is not None:\n",
    "        prev_node.next = next_node\n",
    "\n",
    "    if next_node is not None:\n",
    "        next_node.prev = prev_node\n",
    "\n",
    "    return head\n",
    "\n",
    "     \n",
    "\n",
    "# Create the original doubly linked list\n",
    "head = Node(1)\n",
    "node2 = Node(3)\n",
    "node3 = Node(4)\n",
    "head.next = node2\n",
    "node2.prev = head\n",
    "node2.next = node3\n",
    "node3.prev = node2\n",
    "\n",
    "# Print the original list\n",
    "print(\"Original Linked list:\", end=\" \")\n",
    "current = head\n",
    "while current is not None:\n",
    "    print(current.data, end=\" \")\n",
    "    current = current.next\n",
    "print()\n",
    "\n",
    "# Delete the node at position 3\n",
    "position = 3\n",
    "new_head = delete_node_from_position(head, position)\n",
    "\n",
    "# Print the updated list\n",
    "print(\"Updated Linked list:\", end=\" \")\n",
    "current = new_head\n",
    "while current is not None:\n",
    "    print(current.data, end=\" \")\n",
    "    current = current.next"
   ]
  },
  {
   "cell_type": "code",
   "execution_count": null,
   "id": "d41acf79-6a03-4842-8756-d2a5cc7be175",
   "metadata": {},
   "outputs": [],
   "source": []
  },
  {
   "cell_type": "code",
   "execution_count": null,
   "id": "b1667c37-749c-44d4-8645-705da24dc58a",
   "metadata": {},
   "outputs": [],
   "source": []
  },
  {
   "cell_type": "code",
   "execution_count": null,
   "id": "b8b1f28d-667d-4f1e-919a-785905e622e0",
   "metadata": {},
   "outputs": [],
   "source": []
  },
  {
   "cell_type": "code",
   "execution_count": null,
   "id": "3a5ac0b4-3f2f-478a-bf44-ac9e1c137bdf",
   "metadata": {},
   "outputs": [],
   "source": []
  },
  {
   "cell_type": "code",
   "execution_count": null,
   "id": "8f2d8aca-7916-4ff1-983d-0a94097c1e3f",
   "metadata": {},
   "outputs": [],
   "source": []
  },
  {
   "cell_type": "code",
   "execution_count": null,
   "id": "ac91f2e8-d02e-40cc-8c1f-1349aa5d6409",
   "metadata": {},
   "outputs": [],
   "source": []
  },
  {
   "cell_type": "code",
   "execution_count": null,
   "id": "ee471024-8ea6-4615-86d8-a6919e04899a",
   "metadata": {},
   "outputs": [],
   "source": []
  },
  {
   "cell_type": "code",
   "execution_count": null,
   "id": "b84dd731-1a0d-415f-a867-2f08e39e1b1a",
   "metadata": {},
   "outputs": [],
   "source": []
  },
  {
   "cell_type": "code",
   "execution_count": null,
   "id": "cecff025-7271-44b3-8a1b-3e1004094068",
   "metadata": {},
   "outputs": [],
   "source": []
  },
  {
   "cell_type": "code",
   "execution_count": null,
   "id": "faf9ab09-93b2-4611-b520-a567c55d8601",
   "metadata": {},
   "outputs": [],
   "source": []
  },
  {
   "cell_type": "code",
   "execution_count": null,
   "id": "51a4f661-c83f-4e82-9107-033e99e4f427",
   "metadata": {},
   "outputs": [],
   "source": []
  },
  {
   "cell_type": "code",
   "execution_count": null,
   "id": "f22c4412-926f-40ea-b1aa-116705082c4c",
   "metadata": {},
   "outputs": [],
   "source": []
  },
  {
   "cell_type": "code",
   "execution_count": null,
   "id": "b7170842-6f9e-46f4-91ec-f22d53d44c3f",
   "metadata": {},
   "outputs": [],
   "source": []
  },
  {
   "cell_type": "code",
   "execution_count": null,
   "id": "cca375c6-f972-4da8-a34e-061dcab5a63f",
   "metadata": {},
   "outputs": [],
   "source": []
  },
  {
   "cell_type": "code",
   "execution_count": null,
   "id": "ff775c4c-40e3-40d1-a972-cb9d259a62bb",
   "metadata": {},
   "outputs": [],
   "source": []
  },
  {
   "cell_type": "code",
   "execution_count": null,
   "id": "2bfd2d31-6f9a-450d-9955-509168c6782a",
   "metadata": {},
   "outputs": [],
   "source": []
  },
  {
   "cell_type": "code",
   "execution_count": null,
   "id": "1c8ae1ef-9f24-4894-9839-5f378b8be648",
   "metadata": {},
   "outputs": [],
   "source": []
  },
  {
   "cell_type": "code",
   "execution_count": null,
   "id": "26e5f918-18f7-4a61-99c0-09071f3d3687",
   "metadata": {},
   "outputs": [],
   "source": []
  },
  {
   "cell_type": "code",
   "execution_count": null,
   "id": "9adc4a5a-8a77-4641-b2d8-5c94d82b9aff",
   "metadata": {},
   "outputs": [],
   "source": []
  },
  {
   "cell_type": "code",
   "execution_count": null,
   "id": "fb79bd59-5c32-4a71-b181-5ad89ec88259",
   "metadata": {},
   "outputs": [],
   "source": []
  },
  {
   "cell_type": "code",
   "execution_count": null,
   "id": "a97a2b57-dbd1-4cce-a568-f88406bacf70",
   "metadata": {},
   "outputs": [],
   "source": []
  },
  {
   "cell_type": "code",
   "execution_count": null,
   "id": "ddd06cda-e184-46c7-91a1-bb093de13baf",
   "metadata": {},
   "outputs": [],
   "source": []
  },
  {
   "cell_type": "code",
   "execution_count": null,
   "id": "cc2ad3a0-ee3f-42fc-898a-660815a5ca1d",
   "metadata": {},
   "outputs": [],
   "source": []
  },
  {
   "cell_type": "code",
   "execution_count": null,
   "id": "89690e76-fb08-426c-88b4-09dc3ec02e8f",
   "metadata": {},
   "outputs": [],
   "source": []
  },
  {
   "cell_type": "code",
   "execution_count": null,
   "id": "c0ffd73c-3757-4af0-a52e-61ee2d986735",
   "metadata": {},
   "outputs": [],
   "source": []
  },
  {
   "cell_type": "code",
   "execution_count": null,
   "id": "514e4238-cded-46ed-ba6a-4cc8efd1c902",
   "metadata": {},
   "outputs": [],
   "source": []
  },
  {
   "cell_type": "code",
   "execution_count": null,
   "id": "77cf6235-6194-4a1b-a9ce-ce804db8a8b8",
   "metadata": {},
   "outputs": [],
   "source": []
  },
  {
   "cell_type": "code",
   "execution_count": null,
   "id": "d722878e-944d-4ff7-8991-c59cbe54a25d",
   "metadata": {},
   "outputs": [],
   "source": []
  },
  {
   "cell_type": "code",
   "execution_count": null,
   "id": "98897f96-98ba-4fad-84bb-679350894424",
   "metadata": {},
   "outputs": [],
   "source": []
  },
  {
   "cell_type": "code",
   "execution_count": null,
   "id": "637f3108-33b7-4c1d-8d15-eb880d00232a",
   "metadata": {},
   "outputs": [],
   "source": []
  },
  {
   "cell_type": "code",
   "execution_count": null,
   "id": "e07d4498-e899-44de-be97-712aa86f8091",
   "metadata": {},
   "outputs": [],
   "source": []
  },
  {
   "cell_type": "code",
   "execution_count": null,
   "id": "24e3c15f-81ee-46d6-b466-421945fbd661",
   "metadata": {},
   "outputs": [],
   "source": []
  },
  {
   "cell_type": "code",
   "execution_count": null,
   "id": "b3ef43a6-db7a-4aa7-8965-4ec9e6f5a68e",
   "metadata": {},
   "outputs": [],
   "source": []
  },
  {
   "cell_type": "code",
   "execution_count": null,
   "id": "5707aa53-d5c9-48cf-912b-ee847d7e4201",
   "metadata": {},
   "outputs": [],
   "source": []
  }
 ],
 "metadata": {
  "kernelspec": {
   "display_name": "Python 3 (ipykernel)",
   "language": "python",
   "name": "python3"
  },
  "language_info": {
   "codemirror_mode": {
    "name": "ipython",
    "version": 3
   },
   "file_extension": ".py",
   "mimetype": "text/x-python",
   "name": "python",
   "nbconvert_exporter": "python",
   "pygments_lexer": "ipython3",
   "version": "3.10.6"
  }
 },
 "nbformat": 4,
 "nbformat_minor": 5
}
