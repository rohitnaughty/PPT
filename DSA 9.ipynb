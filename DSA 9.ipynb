{
 "cells": [
  {
   "cell_type": "markdown",
   "id": "89e3bd11-1dc6-4c4e-8abd-cf9eb9a52240",
   "metadata": {},
   "source": [
    "💡 Question 1 Given an integer n, return true if it is a power of two. Otherwise, return false.\n",
    "\n",
    "An integer n is a power of two, if there exists an integer x such that n == 2x.\n",
    "\n",
    "Example 1: Input: n = 1\n",
    "\n",
    "Output: true\n",
    "\n",
    "Example 2: Input: n = 16\n",
    "\n",
    "Output: true\n",
    "\n",
    "Example 3: Input: n = 3\n",
    "\n",
    "Output: false\n"
   ]
  },
  {
   "cell_type": "code",
   "execution_count": 5,
   "id": "f4864ee0-76a3-4c19-980d-ffa14226df78",
   "metadata": {},
   "outputs": [
    {
     "name": "stdout",
     "output_type": "stream",
     "text": [
      "False\n"
     ]
    }
   ],
   "source": [
    "def isPowerOfFour(n: int) -> bool:\n",
    "    if (n == 1): return True\n",
    "    if (n < 1 or n % 2 != 0): return False\n",
    "    return isPowerOfFour(n // 2)\n",
    "\n",
    "print(isPowerOfFour(5))"
   ]
  },
  {
   "cell_type": "markdown",
   "id": "6ec2cef3-6708-407d-826e-29cd7c8526dd",
   "metadata": {},
   "source": [
    "💡 Question 2 Given a number n, find the sum of the first natural numbers.\n",
    "\n",
    "Example 1:\n",
    "\n",
    "Input: n = 3\n",
    "\n",
    "Output: 6\n",
    "\n",
    "Example 2:\n",
    "\n",
    "Input : 5\n",
    "\n",
    "Output : 15\n"
   ]
  },
  {
   "cell_type": "code",
   "execution_count": 6,
   "id": "497d61d4-09e9-4cee-8718-dbed612ef2e8",
   "metadata": {},
   "outputs": [
    {
     "name": "stdout",
     "output_type": "stream",
     "text": [
      "15\n"
     ]
    }
   ],
   "source": [
    "def sumofNaturalNumber(n):\n",
    "    if n == 1 : return 1\n",
    "    return n + sumofNaturalNumber(n-1)\n",
    "\n",
    "print(sumofNaturalNumber(5))"
   ]
  },
  {
   "cell_type": "markdown",
   "id": "da4f3244-a5ec-470d-9a6a-2593d64f7c25",
   "metadata": {},
   "source": [
    "💡 Question 3 ****Given a positive integer, N. Find the factorial of N.\n",
    "\n",
    "Example 1:\n",
    "\n",
    "Input: N = 5\n",
    "\n",
    "Output: 120\n",
    "\n",
    "Example 2:\n",
    "\n",
    "Input: N = 4\n",
    "\n",
    "Output: 24"
   ]
  },
  {
   "cell_type": "code",
   "execution_count": 7,
   "id": "f354ab61-7734-489e-9756-7acd93d37f9c",
   "metadata": {},
   "outputs": [
    {
     "name": "stdout",
     "output_type": "stream",
     "text": [
      "24\n"
     ]
    }
   ],
   "source": [
    "def factorial(n):\n",
    "    if (n == 1 or  n==0) : return 1\n",
    "    return n * factorial(n-1)\n",
    "\n",
    "print(factorial(4))"
   ]
  },
  {
   "cell_type": "markdown",
   "id": "dd3452b5-af54-4b09-979e-1bd5e5a2082f",
   "metadata": {},
   "source": [
    "💡 Question 4 Given a number N and a power P, the task is to find the exponent of this number raised to the given power, i.e. N^P.\n",
    "\n",
    "Example 1 :\n",
    "\n",
    "Input: N = 5, P = 2\n",
    "\n",
    "Output: 25\n",
    "\n",
    "Example 2 : Input: N = 2, P = 5\n",
    "\n",
    "Output: 32\n"
   ]
  },
  {
   "cell_type": "code",
   "execution_count": 4,
   "id": "70f0b808-2a89-4658-be92-5738279d2a8e",
   "metadata": {},
   "outputs": [
    {
     "name": "stdout",
     "output_type": "stream",
     "text": [
      "8\n"
     ]
    }
   ],
   "source": [
    "def find_exponent(N, P):\n",
    "    if P == 0:\n",
    "        return 1\n",
    "    elif P < 0:\n",
    "        return 1 / find_exponent(N, -P)\n",
    "    elif P % 2 == 0:\n",
    "        temp = find_exponent(N, P // 2)\n",
    "        return temp * temp\n",
    "    else:\n",
    "        return N * find_exponent(N, P - 1)\n",
    "\n",
    "number = 2\n",
    "power = 3\n",
    "exponent = find_exponent(number, power)\n",
    "print(exponent)"
   ]
  },
  {
   "cell_type": "markdown",
   "id": "2904dfd7-bcad-4e3c-b5d2-6923bbf22947",
   "metadata": {},
   "source": [
    "💡 Question 5 Given an array of integers arr, the task is to find maximum element of that array using recursion.\n",
    "\n",
    "Example 1:\n",
    "\n",
    "Input: arr = {1, 4, 3, -5, -4, 8, 6}; Output: 8\n",
    "\n",
    "Example 2:\n",
    "\n",
    "Input: arr = {1, 4, 45, 6, 10, -8}; Output: 45"
   ]
  },
  {
   "cell_type": "code",
   "execution_count": 3,
   "id": "a28b62f6-ea3d-4533-9cb6-9ab736d53e11",
   "metadata": {},
   "outputs": [
    {
     "name": "stdout",
     "output_type": "stream",
     "text": [
      "23\n"
     ]
    }
   ],
   "source": [
    "def find_max(arr, n):\n",
    "    if n == 1:\n",
    "        return arr[0]\n",
    "    else:\n",
    "        max_rest = find_max(arr[1:], n - 1)\n",
    "        return max(arr[0], max_rest)\n",
    "\n",
    "\n",
    "array = [10, 7, 23, 4, 18]\n",
    "max_element = find_max(array, len(array))\n",
    "print(max_element)"
   ]
  },
  {
   "cell_type": "code",
   "execution_count": null,
   "id": "8360361e-4768-425b-9095-4b694528f467",
   "metadata": {},
   "outputs": [],
   "source": [
    "💡 Question 6 Given first term (a), common difference (d) and a integer N of the Arithmetic Progression series, the task is to find Nth term of the series.\n",
    "\n",
    "Example 1:\n",
    "\n",
    "Input : a = 2 d = 1 N = 5 Output : 6 The 5th term of the series is : 6\n",
    "\n",
    "Example 2:\n",
    "\n",
    "Input : a = 5 d = 2 N = 10 Output : 23 The 10th term of the series is : 23\n"
   ]
  },
  {
   "cell_type": "code",
   "execution_count": null,
   "id": "7993783d-2010-4491-bf97-6f7dfe18fb7c",
   "metadata": {},
   "outputs": [],
   "source": [
    "def find_nth_term(a, d, N):\n",
    "    if N == 1:\n",
    "        return a\n",
    "    else:\n",
    "        return find_nth_term(a + d, d, N - 1)\n",
    "\n",
    "first_term = 5\n",
    "common_difference = 2\n",
    "N = 10\n",
    "nth_term = find_nth_term(first_term, common_difference, N)\n",
    "print(nth_term)"
   ]
  },
  {
   "cell_type": "code",
   "execution_count": null,
   "id": "32c5cf7a-b749-4196-9fa1-f26a3c21f157",
   "metadata": {},
   "outputs": [],
   "source": [
    "💡 Question 7 Given a string S, the task is to write a program to print all permutations of a given string.\n",
    "Example 1:\n",
    "\n",
    "Input:\n",
    "\n",
    "S = “ABC”\n",
    "\n",
    "Output:\n",
    "\n",
    "“ABC”, “ACB”, “BAC”, “BCA”, “CBA”, “CAB”\n",
    "\n",
    "Example 2:\n",
    "\n",
    "Input:\n",
    "\n",
    "S = “XY”\n",
    "\n",
    "Output:\n",
    "\n",
    "“XY”, “YX”\n"
   ]
  },
  {
   "cell_type": "code",
   "execution_count": 1,
   "id": "23540064-8c19-4fdd-949c-4f1727dcae51",
   "metadata": {},
   "outputs": [
    {
     "name": "stdout",
     "output_type": "stream",
     "text": [
      "ABC\n",
      "ACB\n",
      "BAC\n",
      "BCA\n",
      "CAB\n",
      "CBA\n"
     ]
    }
   ],
   "source": [
    "def permute_string(string, current_permutation):\n",
    "    if len(string) == 0:\n",
    "        print(current_permutation)\n",
    "\n",
    "    for i in range(len(string)):\n",
    "        chosen_char = string[i]\n",
    "\n",
    "        remaining_chars = string[:i] + string[i+1:]\n",
    "\n",
    "        permute_string(remaining_chars, current_permutation + chosen_char)\n",
    "\n",
    "input_string = \"ABC\"\n",
    "permute_string(input_string, \"\")"
   ]
  },
  {
   "cell_type": "markdown",
   "id": "6a699502-5090-41e4-bbce-49302519876e",
   "metadata": {},
   "source": [
    "💡 Question 8 Given an array, find a product of all array elements.\n",
    "\n",
    "Example 1:\n",
    "\n",
    "Input : arr[] = {1, 2, 3, 4, 5} Output : 120 Example 2:\n",
    "\n",
    "Input : arr[] = {1, 6, 3} Output : 18\n"
   ]
  },
  {
   "cell_type": "code",
   "execution_count": 2,
   "id": "97062d59-3638-4908-ba68-b5f3d46ef9ac",
   "metadata": {},
   "outputs": [
    {
     "name": "stdout",
     "output_type": "stream",
     "text": [
      "120\n"
     ]
    },
    {
     "data": {
      "text/plain": [
       "120"
      ]
     },
     "execution_count": 2,
     "metadata": {},
     "output_type": "execute_result"
    }
   ],
   "source": [
    "\n",
    "def find_product(arr, n):\n",
    "    if n == 0:\n",
    "        return 1\n",
    "    else:\n",
    "        return arr[0] * find_product(arr[1:], n - 1)\n",
    "\n",
    "array = [2, 3, 4, 5]\n",
    "product = find_product(array, len(array))\n",
    "print(product)\n",
    "120"
   ]
  },
  {
   "cell_type": "code",
   "execution_count": null,
   "id": "e8873933-a059-47a2-aae6-93969eb632f5",
   "metadata": {},
   "outputs": [],
   "source": []
  },
  {
   "cell_type": "code",
   "execution_count": null,
   "id": "45b8b9a2-1843-4dbb-8653-cd7036734bb6",
   "metadata": {},
   "outputs": [],
   "source": []
  },
  {
   "cell_type": "code",
   "execution_count": null,
   "id": "7b0f87a8-21a6-411f-a9f1-8d40a39b1942",
   "metadata": {},
   "outputs": [],
   "source": []
  },
  {
   "cell_type": "code",
   "execution_count": null,
   "id": "5cf4a64e-aec9-4dac-aac1-a33e2619496d",
   "metadata": {},
   "outputs": [],
   "source": []
  },
  {
   "cell_type": "code",
   "execution_count": null,
   "id": "6073b137-69a0-49fd-8cdf-d80cba1d455d",
   "metadata": {},
   "outputs": [],
   "source": []
  },
  {
   "cell_type": "code",
   "execution_count": null,
   "id": "6e3e6f51-a673-4a31-b505-a207c8ad111d",
   "metadata": {},
   "outputs": [],
   "source": []
  },
  {
   "cell_type": "code",
   "execution_count": null,
   "id": "248d9f65-7e68-4c71-995d-980784733ce2",
   "metadata": {},
   "outputs": [],
   "source": []
  },
  {
   "cell_type": "code",
   "execution_count": null,
   "id": "36ad5ce6-0e4f-4de1-8ed3-b12322472c3f",
   "metadata": {},
   "outputs": [],
   "source": []
  },
  {
   "cell_type": "code",
   "execution_count": null,
   "id": "34a17a13-fe52-4ef8-92d7-b736904205bc",
   "metadata": {},
   "outputs": [],
   "source": []
  }
 ],
 "metadata": {
  "kernelspec": {
   "display_name": "Python 3 (ipykernel)",
   "language": "python",
   "name": "python3"
  },
  "language_info": {
   "codemirror_mode": {
    "name": "ipython",
    "version": 3
   },
   "file_extension": ".py",
   "mimetype": "text/x-python",
   "name": "python",
   "nbconvert_exporter": "python",
   "pygments_lexer": "ipython3",
   "version": "3.10.6"
  }
 },
 "nbformat": 4,
 "nbformat_minor": 5
}
