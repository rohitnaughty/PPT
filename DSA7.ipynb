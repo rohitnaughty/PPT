{
 "cells": [
  {
   "cell_type": "markdown",
   "id": "aa49fce7-4066-4ea9-abe8-66369006a2c7",
   "metadata": {},
   "source": [
    "Q1. Given two strings s and t, determine if they are isomorphic.\n",
    "\n",
    "Two strings s and t are isomorphic if the characters in s can be replaced to get t.\n",
    "\n",
    "All occurrences of a character must be replaced with another character while preserving the order of characters. No two characters may map to the same character, but a character may map to itself.\n",
    "\n",
    "Example 1:\n",
    "\n",
    "Input: s = \"egg\", t = \"add\"\n",
    "\n",
    "Output: true"
   ]
  },
  {
   "cell_type": "code",
   "execution_count": 5,
   "id": "f050f103-21ce-4665-942d-51112ca7e44a",
   "metadata": {},
   "outputs": [],
   "source": [
    "def is_isomorphic(s, t):\n",
    "    if len(s) != len(t):\n",
    "        return False\n",
    "    \n",
    "    s_to_t = {}\n",
    "    t_to_s = {}\n",
    "    \n",
    "    for c1, c2 in zip(s, t):\n",
    "        if c1 not in s_to_t and c2 not in t_to_s:\n",
    "            s_to_t[c1] = c2\n",
    "            t_to_s[c2] = c1\n",
    "        elif c1 in s_to_t and c2 in t_to_s:\n",
    "            if s_to_t[c1] != c2 or t_to_s[c2] != c1:\n",
    "                return False\n",
    "        else:\n",
    "            return False\n",
    "    \n",
    "    return True"
   ]
  },
  {
   "cell_type": "code",
   "execution_count": 6,
   "id": "f3d79222-247d-4baf-85e2-121a797b813d",
   "metadata": {},
   "outputs": [
    {
     "name": "stdout",
     "output_type": "stream",
     "text": [
      "True\n"
     ]
    }
   ],
   "source": [
    "s = \"egg\"\n",
    "t = \"add\"\n",
    "print(is_isomorphic(s, t))"
   ]
  },
  {
   "cell_type": "markdown",
   "id": "161de1d2-57f0-4bd4-a0e3-32486085500e",
   "metadata": {},
   "source": [
    "Q2. Given a string num which represents an integer, return true if num is a strobogrammatic number**.\n",
    "\n",
    "A strobogrammatic number is a number that looks the same when rotated 180 degrees (looked at upside down).\n",
    "\n",
    "Example 1:\n",
    "\n",
    "Input: num = \"69\"\n",
    "\n",
    "Output:\n",
    "\n",
    "true"
   ]
  },
  {
   "cell_type": "code",
   "execution_count": 7,
   "id": "dae249ba-db16-4a89-a8bf-050e96f90f4b",
   "metadata": {},
   "outputs": [
    {
     "name": "stdout",
     "output_type": "stream",
     "text": [
      "True\n"
     ]
    }
   ],
   "source": [
    "def is_strobogrammatic(num):\n",
    "    pairs = {'0': '0', '1': '1', '6': '9', '8': '8', '9': '6'}\n",
    "    left, right = 0, len(num) - 1\n",
    "    \n",
    "    while left <= right:\n",
    "        if num[left] not in pairs or num[right] not in pairs or pairs[num[left]] != num[right]:\n",
    "            return False\n",
    "        left += 1\n",
    "        right -= 1\n",
    "    \n",
    "    return True\n",
    "num = \"69\"\n",
    "print(is_strobogrammatic(num))"
   ]
  },
  {
   "cell_type": "markdown",
   "id": "f1fa3271-5279-4a9d-ac2f-bfc446b5c14e",
   "metadata": {},
   "source": [
    "Q3. Given two non-negative integers, num1 and num2 represented as string, return the sum of num1 and num2 as a string.\n",
    "\n",
    "You must solve the problem without using any built-in library for handling large integers (such as BigInteger). You must also not convert the inputs to integers directly.\n",
    "\n",
    "Example 1:\n",
    "\n",
    "Input: num1 = \"11\", num2 = \"123\"\n",
    "\n",
    "Output:\n",
    "\n",
    "\"134\""
   ]
  },
  {
   "cell_type": "code",
   "execution_count": 8,
   "id": "196e5e5a-07eb-4cea-991d-ece23d7397ef",
   "metadata": {},
   "outputs": [
    {
     "name": "stdout",
     "output_type": "stream",
     "text": [
      "4\n"
     ]
    }
   ],
   "source": [
    "def add_strings(num1, num2):\n",
    "    result = \"\"\n",
    "    i = len(num1) - 1\n",
    "    j = len(num2) - 1\n",
    "    carry = 0\n",
    "    \n",
    "    while i >= 0 or j >= 0 or carry != 0:\n",
    "        if i >= 0:\n",
    "            carry += int(num1[i])\n",
    "            i -= 1\n",
    "        if j >= 0:\n",
    "            carry += int(num2[j])\n",
    "            j -= 1\n",
    "        result = str(carry % 10) + result\n",
    "        carry //= 10\n",
    "        return result\n",
    "\n",
    "    \n",
    "num1 = \"11\"\n",
    "num2 = \"123\"\n",
    "print(add_strings(num1, num2))"
   ]
  },
  {
   "cell_type": "markdown",
   "id": "9b5c8ca8-53c8-4e96-9f40-dbd1e71fe0d8",
   "metadata": {},
   "source": [
    "Q4. Given a string s, reverse the order of characters in each word within a sentence while still preserving whitespace and initial word order.\n",
    "\n",
    "Example 1:\n",
    "\n",
    "Input: s = \"Let's take LeetCode contest\"\n",
    "\n",
    "Output: \"s'teL ekat edoCteeL tsetnoc\""
   ]
  },
  {
   "cell_type": "code",
   "execution_count": 9,
   "id": "e84db8c4-b515-4d22-92a1-875badff384b",
   "metadata": {},
   "outputs": [
    {
     "name": "stdout",
     "output_type": "stream",
     "text": [
      "s'teL ekat edoCteeL tsetnoc\n"
     ]
    }
   ],
   "source": [
    "def reverse_words(s):\n",
    "    words = s.split()\n",
    "    reversed_words = [word[::-1] for word in words]\n",
    "    return ' '.join(reversed_words)\n",
    "s = \"Let's take LeetCode contest\"\n",
    "print(reverse_words(s))"
   ]
  },
  {
   "cell_type": "markdown",
   "id": "2c967b0b-319b-4af7-b137-09d0b34993f6",
   "metadata": {},
   "source": [
    "Q6. Given two strings s and goal, return true if and only if s can become goal after some number of shifts* on* s.\n",
    "\n",
    "A shift on s consists of moving the leftmost character of s to the rightmost position.\n",
    "\n",
    "For example, if s = \"abcde\", then it will be \"bcdea\" after one shift. Example 1:\n",
    "\n",
    "Input: s = \"abcde\", goal = \"cdeab\"\n",
    "\n",
    "Output:\n",
    "\n",
    "true"
   ]
  },
  {
   "cell_type": "code",
   "execution_count": 10,
   "id": "8fd0ba0c-ec4e-49be-a792-2a79a6485c3c",
   "metadata": {},
   "outputs": [
    {
     "name": "stdout",
     "output_type": "stream",
     "text": [
      "True\n"
     ]
    }
   ],
   "source": [
    "def can_shift(s, goal):\n",
    "    if len(s) != len(goal):\n",
    "        return False\n",
    "    \n",
    "    concat = s + s\n",
    "    return goal in concat\n",
    "s = \"abcde\"\n",
    "goal = \"cdeab\"\n",
    "print(can_shift(s, goal))"
   ]
  },
  {
   "cell_type": "markdown",
   "id": "ea456ed6-0708-40b3-b58f-030da043733b",
   "metadata": {},
   "source": [
    "Q7. Given two strings s and t, return true if they are equal when both are typed into empty text editors. '#' means a backspace character.\n",
    "\n",
    "Note that after backspacing an empty text, the text will continue empty.\n",
    "\n",
    "Example 1:\n",
    "\n",
    "Input: s = \"ab#c\", t = \"ad#c\"\n",
    "\n",
    "Output: true\n",
    "\n",
    "Explanation:\n",
    "\n",
    "Both s and t become \"ac\"."
   ]
  },
  {
   "cell_type": "code",
   "execution_count": 2,
   "id": "6c6b767a-3993-4282-a218-f79121098207",
   "metadata": {},
   "outputs": [
    {
     "name": "stdout",
     "output_type": "stream",
     "text": [
      "True\n"
     ]
    }
   ],
   "source": [
    "def process_string(string):\n",
    "    processed = []\n",
    "    for char in string:\n",
    "        if char != '#':\n",
    "            processed.append(char)\n",
    "        elif processed:\n",
    "            processed.pop()\n",
    "    return ''.join(processed)\n",
    "\n",
    "def backspace_compare(s, t):\n",
    "    processed_s = process_string(s)\n",
    "    processed_t = process_string(t)\n",
    "    return processed_s == processed_t\n",
    "s = \"ab#c\"\n",
    "t = \"ad#c\"\n",
    "print(backspace_compare(s, t))"
   ]
  },
  {
   "cell_type": "markdown",
   "id": "a5833c88-c4fc-4759-98d7-e7325e76f227",
   "metadata": {},
   "source": [
    "Q8. You are given an array coordinates, coordinates[i] = [x, y], where [x, y] represents the coordinate of a point. Check if these points make a straight line in the XY plane."
   ]
  },
  {
   "cell_type": "code",
   "execution_count": 1,
   "id": "f0c4b293-2a26-41e8-a7ca-7facde13ee1d",
   "metadata": {},
   "outputs": [
    {
     "name": "stdout",
     "output_type": "stream",
     "text": [
      "true\n"
     ]
    }
   ],
   "source": [
    "def checkStraightLine(coordinates):\n",
    "    if len(coordinates) == 2:\n",
    "        return True\n",
    "    x0, x1 = coordinates[0][0], coordinates[1][0]\n",
    "    y0, y1 = coordinates[0][1], coordinates[1][1]\n",
    "    dx = x1 - x0\n",
    "    dy = y1 - y0\n",
    "    for i in range(2, len(coordinates)):\n",
    "        x = coordinates[i][0]\n",
    "        y = coordinates[i][1]\n",
    "        if dy * (x - x0) != dx * (y - y0):\n",
    "            return False\n",
    "    return True\n",
    "\n",
    "coordinates = [[1, 2], [2, 3], [3, 4], [4, 5], [5, 6], [6,7]]\n",
    "print(\"true\" if checkStraightLine(coordinates) else \"false\")"
   ]
  },
  {
   "cell_type": "code",
   "execution_count": null,
   "id": "13867a69-0751-4d09-91cb-13234f428305",
   "metadata": {},
   "outputs": [],
   "source": []
  },
  {
   "cell_type": "code",
   "execution_count": null,
   "id": "fcb9cfa2-0f2d-4d9e-b7d0-3cf2e79a3a2a",
   "metadata": {},
   "outputs": [],
   "source": []
  },
  {
   "cell_type": "code",
   "execution_count": null,
   "id": "afacac8a-f778-4256-9f5f-66ea6a89d42a",
   "metadata": {},
   "outputs": [],
   "source": []
  },
  {
   "cell_type": "code",
   "execution_count": null,
   "id": "2121a667-0781-4755-af8f-5e6b33d09c57",
   "metadata": {},
   "outputs": [],
   "source": []
  },
  {
   "cell_type": "code",
   "execution_count": null,
   "id": "902e1f16-4b1a-44c1-8c5a-234e369e1713",
   "metadata": {},
   "outputs": [],
   "source": []
  },
  {
   "cell_type": "code",
   "execution_count": null,
   "id": "2f0a2bf0-909e-4b56-93b1-f391bd507764",
   "metadata": {},
   "outputs": [],
   "source": []
  }
 ],
 "metadata": {
  "kernelspec": {
   "display_name": "Python 3 (ipykernel)",
   "language": "python",
   "name": "python3"
  },
  "language_info": {
   "codemirror_mode": {
    "name": "ipython",
    "version": 3
   },
   "file_extension": ".py",
   "mimetype": "text/x-python",
   "name": "python",
   "nbconvert_exporter": "python",
   "pygments_lexer": "ipython3",
   "version": "3.10.6"
  }
 },
 "nbformat": 4,
 "nbformat_minor": 5
}
