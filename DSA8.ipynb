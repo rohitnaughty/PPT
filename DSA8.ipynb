{
 "cells": [
  {
   "cell_type": "markdown",
   "id": "79db4ecd-9f08-49cd-93b2-25ed3cd6ee19",
   "metadata": {},
   "source": [
    "💡 Question 1 Given two strings s1 and s2, return the lowest ASCII* sum of deleted characters to make two strings equal*.\n",
    "\n",
    "Example 1:\n",
    "\n",
    "Input: s1 = \"sea\", s2 = \"eat\"\n",
    "\n",
    "Output: 231\n",
    "\n",
    "Explanation: Deleting \"s\" from \"sea\" adds the ASCII value of \"s\" (115) to the sum.\n",
    "\n",
    "Deleting \"t\" from \"eat\" adds 116 to the sum.\n",
    "\n",
    "At the end, both strings are equal, and 115 + 116 = 231 is the minimum sum possible to achieve this."
   ]
  },
  {
   "cell_type": "code",
   "execution_count": 3,
   "id": "2b6af8fb-3096-4947-a387-13a7b3720b64",
   "metadata": {},
   "outputs": [
    {
     "name": "stdout",
     "output_type": "stream",
     "text": [
      "231\n"
     ]
    }
   ],
   "source": [
    "def minimumDeleteSum(s1, s2):\n",
    "    m, n = len(s1), len(s2)\n",
    "\n",
    "    dp = [[0] * (n+1) for _ in range(m+1)]\n",
    "\n",
    "    for i in range(1, m+1):\n",
    "        for j in range(1, n+1):\n",
    "            if s1[i-1] == s2[j-1]:\n",
    "                dp[i][j] = dp[i-1][j-1] + ord(s1[i-1])\n",
    "            else:\n",
    "                dp[i][j] = max(dp[i-1][j], dp[i][j-1])\n",
    "\n",
    "    ascii_sum = sum(map(ord, s1)) + sum(map(ord, s2)) - 2 * dp[m][n]\n",
    "    return ascii_sum\n",
    "\n",
    "s1 = \"sea\"\n",
    "s2 = \"eat\"\n",
    "result = minimumDeleteSum(s1, s2)\n",
    "print(result)"
   ]
  },
  {
   "cell_type": "markdown",
   "id": "874aacf8-8c69-4c80-9c4d-9e8c941639c8",
   "metadata": {},
   "source": [
    "💡 Question 2 Given a string s containing only three types of characters: '(', ')' and '', return true if* s is valid**.\n",
    "\n",
    "The following rules define a valid string:\n",
    "\n",
    "Any left parenthesis '(' must have a corresponding right parenthesis ')'. Any right parenthesis ')' must have a corresponding left parenthesis '('. Left parenthesis '(' must go before the corresponding right parenthesis ')'. '*' could be treated as a single right parenthesis ')' or a single left parenthesis '(' or an empty string \"\". Example 1:\n",
    "\n",
    "Input: s = \"()\"\n",
    "\n",
    "Output:\n",
    "\n",
    "true"
   ]
  },
  {
   "cell_type": "code",
   "execution_count": 4,
   "id": "116bcf35-9ca3-4a72-8539-d31df44361c4",
   "metadata": {},
   "outputs": [
    {
     "name": "stdout",
     "output_type": "stream",
     "text": [
      "True\n"
     ]
    }
   ],
   "source": [
    "def checkValidString(s):\n",
    "    minOpen = maxOpen = 0\n",
    "\n",
    "    for char in s:\n",
    "        if char == '(':\n",
    "            minOpen += 1\n",
    "            maxOpen += 1\n",
    "        elif char == ')':\n",
    "            minOpen = max(0, minOpen - 1)\n",
    "            maxOpen -= 1\n",
    "        elif char == '*':\n",
    "            minOpen = max(0, minOpen - 1)\n",
    "            maxOpen += 1\n",
    "\n",
    "        if maxOpen < 0:\n",
    "            return False\n",
    "\n",
    "    return minOpen == 0\n",
    "\n",
    "s = \"()\"\n",
    "result = checkValidString(s)\n",
    "print(result)\n"
   ]
  },
  {
   "cell_type": "markdown",
   "id": "6efa580e-3f44-4337-82f7-4d41179c1c03",
   "metadata": {},
   "source": [
    "💡 Question 3 Given two strings word1 and word2, return the minimum number of steps* required to make* word1 and word2 the same.\n",
    "\n",
    "In one step, you can delete exactly one character in either string.\n",
    "\n",
    "Example 1:\n",
    "\n",
    "Input: word1 = \"sea\", word2 = \"eat\"\n",
    "\n",
    "Output: 2\n",
    "\n",
    "Explanation: You need one step to make \"sea\" to \"ea\" and another step to make \"eat\" to \"ea\"."
   ]
  },
  {
   "cell_type": "code",
   "execution_count": 6,
   "id": "83868e9c-c5cf-48b1-87da-00e49980e0a1",
   "metadata": {},
   "outputs": [
    {
     "name": "stdout",
     "output_type": "stream",
     "text": [
      "eeat\n"
     ]
    }
   ],
   "source": [
    "def minSteps(word1, word2):\n",
    "    m, n = len(word1), len(word2)\n",
    "\n",
    "    dp = [[0] * (n+1) for _ in range(m+1)]\n",
    "\n",
    "    lcs = \"\"\n",
    "    for i in range(1, m+1):\n",
    "        for j in range(1, n+1):\n",
    "            if word1[i-1] == word2[j-1]:\n",
    "                dp[i][j] = dp[i-1][j-1] + 1\n",
    "                lcs += word1[i-1]  \n",
    "            else:\n",
    "                dp[i][j] = max(dp[i-1][j], dp[i][j-1])\n",
    "\n",
    "    return lcs\n",
    "\n",
    "word1 = \"seeast\"\n",
    "word2 = \"eat\"\n",
    "result = minSteps(word1, word2)\n",
    "print(result)"
   ]
  },
  {
   "cell_type": "markdown",
   "id": "f65bc096-5136-4f28-9262-62cd81718050",
   "metadata": {},
   "source": [
    "💡 Question 4 You need to construct a binary tree from a string consisting of parenthesis and integers.\n",
    "\n",
    "The whole input represents a binary tree. It contains an integer followed by zero, one or two pairs of parenthesis. The integer represents the root's value and a pair of parenthesis contains a child binary tree with the same structure. You always start to construct the left child node of the parent first if it exists. Input: s = \"4(2(3)(1))(6(5))\"\n",
    "\n",
    "Output: [4,2,6,3,1,5]"
   ]
  },
  {
   "cell_type": "code",
   "execution_count": null,
   "id": "1c38206d-b607-4225-ae69-ba672051300e",
   "metadata": {},
   "outputs": [],
   "source": [
    "class newNode:\n",
    "    def __init__(self, data):\n",
    "        self.data = data\n",
    "        self.left = self.right = None\n",
    "\n",
    "\n",
    "\n",
    "\n",
    "def preOrder(node):\n",
    "    if (node == None):\n",
    "        return\n",
    "    print(node.data, end=' ')\n",
    "    preOrder(node.left)\n",
    "    preOrder(node.right)\n",
    "\n",
    "\n",
    "\n",
    "def findIndex(Str, si, ei):\n",
    "    if (si > ei):\n",
    "        return -1\n",
    "\n",
    "\n",
    "    s = []\n",
    "    for i in range(si, ei + 1):\n",
    "\n",
    "        if (Str[i] == '('):\n",
    "            s.append(Str[i])\n",
    "\n",
    "\n",
    "        elif (Str[i] == ')'):\n",
    "            if (s[-1] == '('):\n",
    "                s.pop(-1)\n",
    "\n",
    "\n",
    "                if len(s) == 0:\n",
    "                    return i\n",
    "    return -1\n",
    "\n",
    "\n",
    "\n",
    "def treeFromString(Str, si, ei):\n",
    "\n",
    "    if (si > ei):\n",
    "        return None\n",
    "\n",
    "    root = newNode(ord(Str[si]) - ord('0'))\n",
    "    index = -1\n",
    "\n",
    "    if (si + 1 <= ei and Str[si + 1] == '('):\n",
    "        index = findIndex(Str, si + 1, ei)\n",
    "\n",
    "    if (index != -1):\n",
    "\n",
    "        root.left = treeFromString(Str, si + 2,\n",
    "                        index - 1)\n",
    "\n",
    "\t\n",
    "\t\troot.right = treeFromString(Str, index + 2,\n",
    "\t\t\t\t\t\t\t\t\tei - 1)\n",
    "\treturn root\n",
    "\n",
    "\n",
    "if __name__ == '__main__':\n",
    "\tStr = \"4(2(3)(1))(6(5))\"\n",
    "\troot = treeFromString(Str, 0, len(Str) - 1)\n",
    "\tpreOrder(root)"
   ]
  },
  {
   "cell_type": "markdown",
   "id": "c07bd863-8a7f-4f23-ba49-2ff3abcd8d2c",
   "metadata": {},
   "source": [
    "💡 Question 5 Given an array of characters chars, compress it using the following algorithm:\n",
    "\n",
    "Begin with an empty string s. For each group of consecutive repeating characters in chars:\n",
    "\n",
    "If the group's length is 1, append the character to s. Otherwise, append the character followed by the group's length. The compressed string s should not be returned separately, but instead, be stored in the input character array chars. Note that group lengths that are 10 or longer will be split into multiple characters in chars.\n",
    "\n",
    "After you are done modifying the input array, return the new length of the array.\n",
    "\n",
    "You must write an algorithm that uses only constant extra space.\n",
    "\n",
    "Example 1:\n",
    "\n",
    "Input: chars = [\"a\",\"a\",\"b\",\"b\",\"c\",\"c\",\"c\"]\n",
    "\n",
    "Output: Return 6, and the first 6 characters of the input array should be: [\"a\",\"2\",\"b\",\"2\",\"c\",\"3\"]\n",
    "\n",
    "Explanation:\n",
    "\n",
    "The groups are \"aa\", \"bb\", and \"ccc\". This compresses to \"a2b2c3\"."
   ]
  },
  {
   "cell_type": "code",
   "execution_count": null,
   "id": "6d9829db-4f9b-48cb-b533-d73018650373",
   "metadata": {},
   "outputs": [],
   "source": [
    "def compress(chars):\n",
    "    anchor = write = 0\n",
    "    n = len(chars)\n",
    "\n",
    "    for read in range(n):\n",
    "        if read + 1 == n or chars[read] != chars[read + 1]:\n",
    "            chars[write] = chars[anchor]\n",
    "            write += 1\n",
    "\n",
    "            if read > anchor:\n",
    "                count = str(read - anchor + 1)\n",
    "                for c in count:\n",
    "                    chars[write] = c\n",
    "                    write += 1\n",
    "\n",
    "            anchor = read + 1\n",
    "\n",
    "    return write\n",
    "\n",
    "chars = [\"a\", \"a\",\"a\", \"b\", \"b\", \"c\", \"c\", \"c\"]\n",
    "new_length = compress(chars)\n",
    "print(chars[:new_length])"
   ]
  },
  {
   "cell_type": "code",
   "execution_count": null,
   "id": "38a596dd-2b38-4c8e-b1d6-8d20167a135c",
   "metadata": {},
   "outputs": [],
   "source": [
    "💡 Question 6 Given two strings s and p, return an array of all the start indices of p's anagrams in s. You may return the answer in any order.\n",
    "\n",
    "An Anagram is a word or phrase formed by rearranging the letters of a different word or phrase, typically using all the original letters exactly once.\n",
    "\n",
    "Example 1:\n",
    "\n",
    "Input: s = \"cbaebabacd\", p = \"abc\"\n",
    "\n",
    "Output: [0,6]\n",
    "\n",
    "Explanation:\n",
    "\n",
    "The substring with start index = 0 is \"cba\", which is an anagram of \"abc\".\n",
    "\n",
    "The substring with start index = 6 is \"bac\", which is an anagram of \"abc\"."
   ]
  },
  {
   "cell_type": "code",
   "execution_count": 2,
   "id": "083967f2-ac0c-4e65-b54f-80743232aa0d",
   "metadata": {},
   "outputs": [
    {
     "name": "stdout",
     "output_type": "stream",
     "text": [
      "[0, 6]\n"
     ]
    }
   ],
   "source": [
    "from collections import Counter\n",
    "\n",
    "def findAnagrams(s, p):\n",
    "    result = []\n",
    "    n, m = len(s), len(p)\n",
    "    if n < m:\n",
    "        return result\n",
    "\n",
    "    p_count = Counter(p)\n",
    "    s_count = Counter()\n",
    "\n",
    "    for i in range(n):\n",
    "        s_count[s[i]] += 1\n",
    "\n",
    "        if i >= m:\n",
    "            if s_count[s[i - m]] == 1:\n",
    "                del s_count[s[i - m]]\n",
    "            else:\n",
    "                s_count[s[i - m]] -= 1\n",
    "\n",
    "        if s_count == p_count:\n",
    "            result.append(i - m + 1)\n",
    "\n",
    "    return result\n",
    "\n",
    "s = \"cbaebabacd\"\n",
    "p = \"abc\"\n",
    "indices = findAnagrams(s, p)\n",
    "print(indices)"
   ]
  },
  {
   "cell_type": "markdown",
   "id": "44af560a-a3d6-46b2-969c-95b773b3bbc5",
   "metadata": {},
   "source": [
    "💡 Question 7 Given an encoded string, return its decoded string.\n",
    "\n",
    "The encoding rule is: k[encoded_string], where the encoded_string inside the square brackets is being repeated exactly k times. Note that k is guaranteed to be a positive integer.\n",
    "\n",
    "You may assume that the input string is always valid; there are no extra white spaces, square brackets are well-formed, etc. Furthermore, you may assume that the original data does not contain any digits and that digits are only for those repeat numbers, k. For example, there will not be input like 3a or 2[4].\n",
    "\n",
    "The test cases are generated so that the length of the output will never exceed 105.\n",
    "\n",
    "Example 1:\n",
    "\n",
    "Input: s = \"3[a]2[bc]\"\n",
    "\n",
    "Output: \"aaabcbc\""
   ]
  },
  {
   "cell_type": "code",
   "execution_count": null,
   "id": "4c6f0b26-a6a8-4d2b-b4ad-16128deb1c65",
   "metadata": {},
   "outputs": [],
   "source": [
    "def decodeString(s):\n",
    "    stack = []\n",
    "    current_str = \"\"\n",
    "    current_num = 0\n",
    "\n",
    "    for char in s:\n",
    "        if char.isdigit():\n",
    "            current_num = current_num * 10 + int(char)\n",
    "        elif char.isalpha():\n",
    "            current_str += char\n",
    "        elif char == \"[\":\n",
    "            stack.append((current_str, current_num))\n",
    "            current_str = \"\"\n",
    "            current_num = 0\n",
    "        elif char == \"]\":\n",
    "            prev_str, prev_num = stack.pop()\n",
    "            current_str = prev_str + prev_num * current_str\n",
    "\n",
    "    return current_str\n",
    "s = \"3[a]2[bc]\"\n",
    "decoded = decodeString(s)\n",
    "print(decoded)"
   ]
  },
  {
   "cell_type": "markdown",
   "id": "2a3ac226-d608-4197-9821-54035af5b47e",
   "metadata": {},
   "source": [
    "💡 Question 8 Given two strings s and goal, return true if you can swap two letters in s so the result is equal to goal, otherwise, return false.\n",
    "\n",
    "Swapping letters is defined as taking two indices i and j (0-indexed) such that i != j and swapping the characters at s[i] and s[j].\n",
    "\n",
    "For example, swapping at indices 0 and 2 in \"abcd\" results in \"cbad\". Example 1:\n",
    "\n",
    "Input: s = \"ab\", goal = \"ba\"\n",
    "\n",
    "Output: true\n",
    "\n",
    "Explanation: You can swap s[0] = 'a' and s[1] = 'b' to get \"ba\", which is equal to goal."
   ]
  },
  {
   "cell_type": "code",
   "execution_count": null,
   "id": "b529b377-4559-42e4-a991-880b4afbdc7f",
   "metadata": {},
   "outputs": [],
   "source": [
    "def buddyStrings(s, goal):\n",
    "    if len(s) != len(goal):\n",
    "        return False\n",
    "\n",
    "    if s == goal:\n",
    "        return len(set(s)) < len(s)\n",
    "\n",
    "    diffs = [(s[i], goal[i]) for i in range(len(s)) if s[i] != goal[i]]\n",
    "\n",
    "    if len(diffs) == 2 and diffs[0] == diffs[1][::-1]:\n",
    "        return True\n",
    "\n",
    "    return False\n",
    "\n",
    "s = \"abc\"\n",
    "goal = \"cba\"\n",
    "result = buddyStrings(s, goal)\n",
    "print(result)"
   ]
  },
  {
   "cell_type": "code",
   "execution_count": null,
   "id": "e3869e64-036c-466f-bcc5-060559573ae8",
   "metadata": {},
   "outputs": [],
   "source": []
  },
  {
   "cell_type": "code",
   "execution_count": null,
   "id": "02f22c03-d146-4740-bbbc-21ee845be417",
   "metadata": {},
   "outputs": [],
   "source": []
  },
  {
   "cell_type": "code",
   "execution_count": null,
   "id": "1e0d9e64-62c0-4ccd-a340-5e75fe2096fd",
   "metadata": {},
   "outputs": [],
   "source": []
  }
 ],
 "metadata": {
  "kernelspec": {
   "display_name": "Python 3 (ipykernel)",
   "language": "python",
   "name": "python3"
  },
  "language_info": {
   "codemirror_mode": {
    "name": "ipython",
    "version": 3
   },
   "file_extension": ".py",
   "mimetype": "text/x-python",
   "name": "python",
   "nbconvert_exporter": "python",
   "pygments_lexer": "ipython3",
   "version": "3.10.6"
  }
 },
 "nbformat": 4,
 "nbformat_minor": 5
}
