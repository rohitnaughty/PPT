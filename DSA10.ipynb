{
 "cells": [
  {
   "cell_type": "markdown",
   "id": "82eb233a-cded-425f-8773-951d05ed4f0b",
   "metadata": {},
   "source": [
    "<aside>\n",
    "💡 **Question 1**\n",
    "\n",
    "Given an integer `n`, return *`true` if it is a power of three. Otherwise, return `false`*.\n",
    "\n",
    "An integer `n` is a power of three, if there exists an integer `x` such that `n == 3x`.\n",
    "\n",
    "**Example 1:**\n",
    "\n",
    "</aside>"
   ]
  },
  {
   "cell_type": "raw",
   "id": "5c51e868-a1a5-454e-9457-9fadb3881593",
   "metadata": {},
   "source": [
    "Input: n = 27\n",
    "Output: true\n",
    "Explanation: 27 = 33"
   ]
  },
  {
   "cell_type": "code",
   "execution_count": 1,
   "id": "70eb4543-418b-4970-8938-61774fcd98bd",
   "metadata": {},
   "outputs": [
    {
     "name": "stdout",
     "output_type": "stream",
     "text": [
      "True\n",
      "False\n",
      "False\n"
     ]
    }
   ],
   "source": [
    "def isPowerOfThree(n):\n",
    "    if n <= 0:\n",
    "        return False\n",
    "\n",
    "    while n % 3 == 0:\n",
    "        n /= 3\n",
    "\n",
    "    return n == 1\n",
    "\n",
    "print(isPowerOfThree(27))  \n",
    "print(isPowerOfThree(0))  \n",
    "print(isPowerOfThree(-1)) "
   ]
  },
  {
   "cell_type": "markdown",
   "id": "887e6d01-6e08-4c08-b418-4408a8430924",
   "metadata": {},
   "source": [
    "<aside>\n",
    "💡 **Question 2**\n",
    "\n",
    "You have a list `arr` of all integers in the range `[1, n]` sorted in a strictly increasing order. Apply the following algorithm on `arr`:\n",
    "\n",
    "- Starting from left to right, remove the first number and every other number afterward until you reach the end of the list.\n",
    "- Repeat the previous step again, but this time from right to left, remove the rightmost number and every other number from the remaining numbers.\n",
    "- Keep repeating the steps again, alternating left to right and right to left, until a single number remains.\n",
    "\n",
    "Given the integer `n`, return *the last number that remains in* `arr`.\n",
    "\n",
    "</aside>\n",
    "\n",
    "Example 1:"
   ]
  },
  {
   "cell_type": "raw",
   "id": "b3092a39-936b-4127-b141-788f40ad83cd",
   "metadata": {},
   "source": [
    "Input: n = 9\n",
    "Output: 6\n",
    "Explanation:\n",
    "arr = [1, 2,3, 4,5, 6,7, 8,9]\n",
    "arr = [2,4, 6,8]\n",
    "arr = [2, 6]\n",
    "arr = [6]\n"
   ]
  },
  {
   "cell_type": "code",
   "execution_count": 2,
   "id": "166de3f2-7110-44d9-869b-757584023d4d",
   "metadata": {},
   "outputs": [
    {
     "name": "stdout",
     "output_type": "stream",
     "text": [
      "6\n",
      "1\n"
     ]
    }
   ],
   "source": [
    "def lastRemaining(n):\n",
    "    arr = list(range(1, n + 1))  # Create the initial list [1, 2, ..., n]\n",
    "\n",
    "    left_to_right = True  # Flag to indicate the direction of removal\n",
    "\n",
    "    while len(arr) > 1:\n",
    "        if left_to_right:\n",
    "            arr = arr[1::2]  # Remove every other element starting from the second element\n",
    "        else:\n",
    "            arr = arr[:-1:2]  # Remove every other element starting from the last element\n",
    "\n",
    "        left_to_right = not left_to_right  # Toggle the direction\n",
    "\n",
    "    return arr[0]  # Return the remaining element\n",
    "\n",
    "\n",
    "# Example\n",
    "print(lastRemaining(9))  \n",
    "print(lastRemaining(1))  "
   ]
  },
  {
   "cell_type": "markdown",
   "id": "2a7392e0-1df0-498c-937e-25e0ff5ef9fc",
   "metadata": {},
   "source": [
    "<aside>\n",
    "💡 **Question 3**\n",
    "\n",
    "****Given a set represented as a string, write a recursive code to print all subsets of it. The subsets can be printed in any order.\n",
    "\n",
    "**Example 1:**\n",
    "\n",
    "Input :  set = “abc”\n",
    "\n",
    "Output : { “”, “a”, “b”, “c”, “ab”, “ac”, “bc”, “abc”}\n",
    "\n",
    "**Example 2:**\n",
    "\n",
    "Input : set = “abcd”\n",
    "\n",
    "Output : { “”, “a” ,”ab” ,”abc” ,”abcd”, “abd” ,”ac” ,”acd”, “ad” ,”b”, “bc” ,”bcd” ,”bd” ,”c” ,”cd” ,”d” }\n",
    "\n",
    "</aside>"
   ]
  },
  {
   "cell_type": "code",
   "execution_count": 3,
   "id": "56c37d26-f164-41b9-b6a0-15e164284ced",
   "metadata": {},
   "outputs": [
    {
     "name": "stdout",
     "output_type": "stream",
     "text": [
      "['', 'c', 'b', 'bc', 'a', 'ac', 'ab', 'abc']\n",
      "['', 'd', 'c', 'cd', 'b', 'bd', 'bc', 'bcd', 'a', 'ad', 'ac', 'acd', 'ab', 'abd', 'abc', 'abcd']\n"
     ]
    }
   ],
   "source": [
    "def printSubsets(s, curr_subset, index, subsets):\n",
    "    n = len(s)\n",
    "\n",
    "    # Base case: if we have processed all characters\n",
    "    if index == n:\n",
    "        subsets.append(\"\".join(curr_subset))\n",
    "        return\n",
    "\n",
    "    # Recursive case:\n",
    "    # Exclude the current character and move to the next index\n",
    "    printSubsets(s, curr_subset, index + 1, subsets)\n",
    "\n",
    "    # Include the current character and move to the next index\n",
    "    curr_subset.append(s[index])\n",
    "    printSubsets(s, curr_subset, index + 1, subsets)\n",
    "\n",
    "    # Backtrack by removing the current character\n",
    "    curr_subset.pop()\n",
    "def generateSubsets(s):\n",
    "    subsets = []\n",
    "    printSubsets(s, [], 0, subsets)\n",
    "    return subsets\n",
    "\n",
    "\n",
    "# Testing the function\n",
    "subsets1 = generateSubsets(\"abc\")\n",
    "print(subsets1)\n",
    "\n",
    "subsets2 = generateSubsets(\"abcd\")\n",
    "print(subsets2)"
   ]
  },
  {
   "cell_type": "markdown",
   "id": "a1651f70-d0a4-477d-b83e-31c5cc5a1c13",
   "metadata": {},
   "source": [
    "<aside>\n",
    "💡 **Question 4**\n",
    "\n",
    "Given a string calculate length of the string using recursion.\n",
    "\n",
    "**Examples:**\n",
    "\n",
    "</aside>"
   ]
  },
  {
   "cell_type": "raw",
   "id": "fd12b073-1afb-49af-a80b-240fcc281b39",
   "metadata": {},
   "source": [
    "Input : str = \"abcd\"\n",
    "Output :4\n",
    "\n",
    "Input : str = \"GEEKSFORGEEKS\"\n",
    "Output :13"
   ]
  },
  {
   "cell_type": "code",
   "execution_count": 4,
   "id": "9abcf2cb-0ac0-4ae0-bcdf-c3c007b2d1a9",
   "metadata": {},
   "outputs": [
    {
     "name": "stdout",
     "output_type": "stream",
     "text": [
      "4\n",
      "13\n"
     ]
    }
   ],
   "source": [
    "def calculateLength(str):\n",
    "    if str == \"\":\n",
    "        return 0\n",
    "    else:\n",
    "        return 1 + calculateLength(str[1:])\n",
    "\n",
    "\n",
    "# Example\n",
    "print(calculateLength(\"abcd\")) \n",
    "print(calculateLength(\"GEEKSFORGEEKS\"))"
   ]
  },
  {
   "cell_type": "markdown",
   "id": "4211a5f1-4689-40a8-8654-d9b9f42300e1",
   "metadata": {},
   "source": [
    "<aside>\n",
    "💡 **Question 5**\n",
    "\n",
    "We are given a string S, we need to find count of all contiguous substrings starting and ending with same character.\n",
    "\n",
    "**Examples :**\n",
    "\n",
    "</aside>"
   ]
  },
  {
   "cell_type": "raw",
   "id": "d59a25f0-aa04-4525-92de-c968b01a2892",
   "metadata": {},
   "source": [
    "Input  : S = \"abcab\"\n",
    "Output : 7\n",
    "There are 15 substrings of \"abcab\"\n",
    "a, ab, abc, abca, abcab, b, bc, bca\n",
    "bcab, c, ca, cab, a, ab, b\n",
    "Out of the above substrings, there\n",
    "are 7 substrings : a, abca, b, bcab,\n",
    "c, a and b.\n",
    "\n",
    "Input  : S = \"aba\"\n",
    "Output : 4\n",
    "The substrings are a, b, a and aba"
   ]
  },
  {
   "cell_type": "code",
   "execution_count": 5,
   "id": "e96aa427-467d-4171-97a8-52df68292996",
   "metadata": {},
   "outputs": [
    {
     "name": "stdout",
     "output_type": "stream",
     "text": [
      "7\n",
      "4\n"
     ]
    }
   ],
   "source": [
    "def countSubstrings(S):\n",
    "    count = 0\n",
    "    n = len(S)\n",
    "\n",
    "    for i in range(n):\n",
    "        for j in range(i, n):\n",
    "            if S[j] == S[i]:\n",
    "                count += 1\n",
    "\n",
    "    return count\n",
    "\n",
    "\n",
    "# Example \n",
    "print(countSubstrings(\"abcab\"))  \n",
    "print(countSubstrings(\"aba\")) "
   ]
  },
  {
   "cell_type": "markdown",
   "id": "9c3bde3d-5e80-46b0-833c-4755dfd048e3",
   "metadata": {},
   "source": [
    "<aside>\n",
    "💡 **Question 6**\n",
    "\n",
    "The [tower of Hanoi](https://en.wikipedia.org/wiki/Tower_of_Hanoi) is a famous puzzle where we have three rods and **N** disks. The objective of the puzzle is to move the entire stack to another rod. You are given the number of discs **N**. Initially, these discs are in the rod 1. You need to print all the steps of discs movement so that all the discs reach the 3rd rod. Also, you need to find the total moves.**Note:** The discs are arranged such that the **top disc is numbered 1** and the **bottom-most disc is numbered N**. Also, all the discs have **different sizes** and a bigger disc **cannot** be put on the top of a smaller disc. Refer the provided link to get a better clarity about the puzzle.\n",
    "\n",
    "**Example 1:**\n",
    "\n",
    "</aside>"
   ]
  },
  {
   "cell_type": "raw",
   "id": "cb693b61-b070-469c-9210-135b0cbf7d2f",
   "metadata": {},
   "source": [
    "Input:\n",
    "N = 2\n",
    "Output:\n",
    "move disk 1 from rod 1 to rod 2\n",
    "move disk 2 from rod 1 to rod 3\n",
    "move disk 1 from rod 2 to rod 3\n",
    "3\n",
    "Explanation:For N=2 , steps will be\n",
    "as follows in the example and total\n",
    "3 steps will be taken."
   ]
  },
  {
   "cell_type": "code",
   "execution_count": 6,
   "id": "58f11e53-b24d-4f8f-9dfa-d8abe99c5c77",
   "metadata": {},
   "outputs": [
    {
     "name": "stdout",
     "output_type": "stream",
     "text": [
      "move disk 1 from rod 1 to rod 2\n",
      "move disk 2 from rod 1 to rod 3\n",
      "move disk 1 from rod 2 to rod 3\n",
      "Total moves: 3\n",
      "move disk 1 from rod 1 to rod 3\n",
      "move disk 2 from rod 1 to rod 2\n",
      "move disk 1 from rod 3 to rod 2\n",
      "move disk 3 from rod 1 to rod 3\n",
      "move disk 1 from rod 2 to rod 1\n",
      "move disk 2 from rod 2 to rod 3\n",
      "move disk 1 from rod 1 to rod 3\n",
      "Total moves: 7\n"
     ]
    }
   ],
   "source": [
    "def towerOfHanoi(N, source, destination, auxiliary):\n",
    "    if N == 1:\n",
    "        print(\"move disk 1 from rod\", source, \"to rod\", destination)\n",
    "        return 1\n",
    "    else:\n",
    "        count = 0\n",
    "        count += towerOfHanoi(N-1, source, auxiliary, destination)\n",
    "        print(\"move disk\", N, \"from rod\", source, \"to rod\", destination)\n",
    "        count += 1\n",
    "        count += towerOfHanoi(N-1, auxiliary, destination, source)\n",
    "        return count\n",
    "\n",
    "\n",
    "# Example\n",
    "N = 2\n",
    "print(\"Total moves:\", towerOfHanoi(N, 1, 3, 2))\n",
    "\n",
    "N = 3\n",
    "print(\"Total moves:\", towerOfHanoi(N, 1, 3, 2))"
   ]
  },
  {
   "cell_type": "markdown",
   "id": "78f55bc2-f256-4cbd-a36b-e3af84dd1639",
   "metadata": {},
   "source": [
    "<aside>\n",
    "💡 **Question 7**\n",
    "\n",
    "Given a string **str**, the task is to print all the permutations of **str**. A **permutation** is an arrangement of all or part of a set of objects, with regard to the order of the arrangement. For instance, the words ‘bat’ and ‘tab’ represents two distinct permutation (or arrangements) of a similar three letter word.\n",
    "\n",
    "**Examples:**\n",
    "\n",
    "> Input: str = “cd”\n",
    "> \n",
    "> \n",
    "> **Output:** cd dc\n",
    "> \n",
    "> **Input:** str = “abb”\n",
    "> \n",
    "> **Output:** abb abb bab bba bab bba\n",
    "> \n",
    "</aside>"
   ]
  },
  {
   "cell_type": "code",
   "execution_count": 7,
   "id": "a8ae3ac4-548a-4698-8e66-46c5fa4f7f0a",
   "metadata": {},
   "outputs": [
    {
     "name": "stdout",
     "output_type": "stream",
     "text": [
      "Permutations of cd\n",
      "cd\n",
      "dc\n",
      "Permutations of abb\n",
      "abb\n",
      "abb\n",
      "bab\n",
      "bba\n",
      "bba\n",
      "bab\n"
     ]
    }
   ],
   "source": [
    "def permute(str, l, r):\n",
    "    if l == r:\n",
    "        print(''.join(str))\n",
    "    else:\n",
    "        for i in range(l, r + 1):\n",
    "            str[l], str[i] = str[i], str[l]\n",
    "            permute(str, l + 1, r)\n",
    "            str[l], str[i] = str[i], str[l]  # Backtracking\n",
    "\n",
    "\n",
    "# Example\n",
    "str = list(\"cd\")\n",
    "print(\"Permutations of\", ''.join(str))\n",
    "permute(str, 0, len(str) - 1)\n",
    "\n",
    "str = list(\"abb\")\n",
    "print(\"Permutations of\", ''.join(str))\n",
    "permute(str, 0, len(str) - 1)"
   ]
  },
  {
   "cell_type": "markdown",
   "id": "8ac706ec-d17e-4c50-b715-446760b2ea7d",
   "metadata": {},
   "source": [
    "<aside>\n",
    "💡 **Question 8**\n",
    "\n",
    "Given a string, count total number of consonants in it. A consonant is an English alphabet character that is not vowel (a, e, i, o and u). Examples of constants are b, c, d, f, and g.\n",
    "\n",
    "**Examples :**\n",
    "\n",
    "</aside>"
   ]
  },
  {
   "cell_type": "raw",
   "id": "ad1e6c5f-8f16-4126-b920-5f1018dc356c",
   "metadata": {},
   "source": [
    "Input : abc de\n",
    "Output : 3\n",
    "There are three consonants b, c and d.\n",
    "\n",
    "Input : geeksforgeeks portal\n",
    "Output : 12"
   ]
  },
  {
   "cell_type": "code",
   "execution_count": 8,
   "id": "168ba424-63c3-4231-a08f-8a7c6eb663e6",
   "metadata": {},
   "outputs": [
    {
     "name": "stdout",
     "output_type": "stream",
     "text": [
      "Total consonants: 3\n",
      "Total consonants: 12\n"
     ]
    }
   ],
   "source": [
    "def countConsonants(string):\n",
    "    vowels = \"aeiou\"\n",
    "    count = 0\n",
    "\n",
    "    for char in string:\n",
    "        if char.isalpha() and char.lower() not in vowels:\n",
    "            count += 1\n",
    "\n",
    "    return count\n",
    "\n",
    "\n",
    "# Example\n",
    "string = \"abc de\"\n",
    "print(\"Total consonants:\", countConsonants(string))\n",
    "\n",
    "string = \"geeksforgeeks portal\"\n",
    "print(\"Total consonants:\", countConsonants(string))"
   ]
  },
  {
   "cell_type": "code",
   "execution_count": null,
   "id": "e8957003-df4e-4757-9f3d-f49ec7ae0a5b",
   "metadata": {},
   "outputs": [],
   "source": []
  }
 ],
 "metadata": {
  "kernelspec": {
   "display_name": "Python 3 (ipykernel)",
   "language": "python",
   "name": "python3"
  },
  "language_info": {
   "codemirror_mode": {
    "name": "ipython",
    "version": 3
   },
   "file_extension": ".py",
   "mimetype": "text/x-python",
   "name": "python",
   "nbconvert_exporter": "python",
   "pygments_lexer": "ipython3",
   "version": "3.10.6"
  }
 },
 "nbformat": 4,
 "nbformat_minor": 5
}
