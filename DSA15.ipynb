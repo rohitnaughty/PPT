{
 "cells": [
  {
   "cell_type": "markdown",
   "id": "6760d2dd-8b49-4d51-8f41-a8d8f26c3488",
   "metadata": {},
   "source": [
    "💡 Question 1\n",
    "\n",
    "Given an array arr[ ] of size N having elements, the task is to find the next greater element for each element of the array in order of their appearance in the array.Next greater element of an element in the array is the nearest element on the right which is greater than the current element.If there does not exist next greater of current element, then next greater element for current element is -1. For example, next greater of the last element is always -1."
   ]
  },
  {
   "cell_type": "code",
   "execution_count": 1,
   "id": "a8526bc8-c9f1-4f09-bbd1-0a1c44df8fa6",
   "metadata": {},
   "outputs": [
    {
     "name": "stdout",
     "output_type": "stream",
     "text": [
      "3 4 4 -1\n"
     ]
    }
   ],
   "source": [
    "N=4\n",
    "arr=[2,3,1,4]\n",
    "result = []\n",
    "\n",
    "for i in range(N):\n",
    "    next_greater = -1\n",
    "    for j in range(i+1, N):\n",
    "        if arr[j] > arr[i]:\n",
    "            next_greater = arr[j]\n",
    "            break\n",
    "    result.append(next_greater)\n",
    "\n",
    "print(' '.join(map(str, result)))"
   ]
  },
  {
   "cell_type": "markdown",
   "id": "a81a338e-754a-4543-8809-1adc63b89516",
   "metadata": {},
   "source": [
    "💡 Question 2\n",
    "\n",
    "Given an array a of integers of length n, find the nearest smaller number for every element such that the smaller element is on left side.If no small element present on the left print -1."
   ]
  },
  {
   "cell_type": "code",
   "execution_count": 2,
   "id": "19a11a83-04f7-4a11-bb6c-cabed9bf9bbd",
   "metadata": {},
   "outputs": [
    {
     "name": "stdout",
     "output_type": "stream",
     "text": [
      "[-1, -1, 1, 1, 2]\n"
     ]
    }
   ],
   "source": [
    "def nearest_smaller(arr):\n",
    "    n = len(arr)\n",
    "    stack = []\n",
    "    result = []\n",
    "\n",
    "    for i in range(n):\n",
    "        while stack and stack[-1] >= arr[i]:\n",
    "            stack.pop()\n",
    "\n",
    "        if stack:\n",
    "            result.append(stack[-1])\n",
    "        else:\n",
    "            result.append(-1)\n",
    "\n",
    "        stack.append(arr[i])\n",
    "\n",
    "    return result\n",
    "a = [3, 1, 6, 2, 5]\n",
    "output = nearest_smaller(a)\n",
    "print(output)"
   ]
  },
  {
   "cell_type": "markdown",
   "id": "3ebc22ae-3649-495b-a193-2498b2987e61",
   "metadata": {},
   "source": [
    "💡 Question 3\n",
    "\n",
    "Implement a Stack using two queues q1 and q2."
   ]
  },
  {
   "cell_type": "code",
   "execution_count": 3,
   "id": "1f1df0b2-9078-49be-8a28-eee79898e51f",
   "metadata": {},
   "outputs": [
    {
     "name": "stdout",
     "output_type": "stream",
     "text": [
      "3\n",
      "4\n"
     ]
    }
   ],
   "source": [
    "from queue import Queue\n",
    "\n",
    "class Stack:\n",
    "    def __init__(self):\n",
    "        self.q1 = Queue()\n",
    "        self.q2 = Queue()\n",
    "\n",
    "    def push(self, value):\n",
    "        self.q2.put(value)\n",
    "        while not self.q1.empty():\n",
    "            self.q2.put(self.q1.get())\n",
    "        self.q1, self.q2 = self.q2, self.q1\n",
    "\n",
    "    def pop(self):\n",
    "        if self.q1.empty():\n",
    "            return None\n",
    "        return self.q1.get()\n",
    "\n",
    "# Example usage:\n",
    "stack = Stack()\n",
    "stack.push(2)\n",
    "stack.push(3)\n",
    "print(stack.pop())\n",
    "stack.push(4)\n",
    "print(stack.pop())"
   ]
  },
  {
   "cell_type": "markdown",
   "id": "ca435be3-4b1e-4679-915c-1d8724a442ee",
   "metadata": {},
   "source": [
    "💡 Question 4\n",
    "\n",
    "You are given a stack St. You have to reverse the stack using recursion."
   ]
  },
  {
   "cell_type": "code",
   "execution_count": 4,
   "id": "d9aa1721-9867-4bbc-a0fa-187a9acef98b",
   "metadata": {},
   "outputs": [
    {
     "name": "stdout",
     "output_type": "stream",
     "text": [
      "[4, 3, 2, 1]\n"
     ]
    }
   ],
   "source": [
    "arr=[1,2,3,4]\n",
    "arr1=[]\n",
    "for i in range(len(arr),0,-1):\n",
    "    arr1.append(i)\n",
    "print(arr1)"
   ]
  },
  {
   "cell_type": "markdown",
   "id": "c1cb54c8-7be0-4ac1-87bf-3046f7cfaa32",
   "metadata": {},
   "source": [
    "\n",
    "💡 Question 5\n",
    "\n",
    "You are given a string S, the task is to reverse the string using stack."
   ]
  },
  {
   "cell_type": "code",
   "execution_count": 5,
   "id": "b7fe7327-5268-4fb2-a7b6-d5e2a7e23b66",
   "metadata": {},
   "outputs": [
    {
     "name": "stdout",
     "output_type": "stream",
     "text": [
      "skeeGrofskeeG\n"
     ]
    }
   ],
   "source": [
    "def reverse_string(string):\n",
    "    stack = []\n",
    "    reversed_string = \"\"\n",
    "\n",
    "    for char in string:\n",
    "        stack.append(char)\n",
    "\n",
    "    while stack:\n",
    "        reversed_string += stack.pop()\n",
    "\n",
    "    return reversed_string\n",
    "\n",
    "S = \"GeeksforGeeks\"\n",
    "output = reverse_string(S)\n",
    "print(output)"
   ]
  },
  {
   "cell_type": "markdown",
   "id": "d9059409-937e-42d7-972f-0cfefd35a1c4",
   "metadata": {},
   "source": [
    "💡 Question 6\n",
    "\n",
    "Given string S representing a postfix expression, the task is to evaluate the expression and find the final value. Operators will only include the basic arithmetic operators like *, /, + and -."
   ]
  },
  {
   "cell_type": "code",
   "execution_count": 6,
   "id": "c9f5d897-3336-4864-a241-aff2eb676f8d",
   "metadata": {},
   "outputs": [
    {
     "name": "stdout",
     "output_type": "stream",
     "text": [
      "-4\n"
     ]
    }
   ],
   "source": [
    "def evaluate_postfix(expression):\n",
    "    stack = []\n",
    "\n",
    "    for char in expression:\n",
    "        if char.isdigit():\n",
    "            stack.append(int(char))\n",
    "        else:\n",
    "            operand2 = stack.pop()\n",
    "            operand1 = stack.pop()\n",
    "\n",
    "            if char == '+':\n",
    "                stack.append(operand1 + operand2)\n",
    "            elif char == '-':\n",
    "                stack.append(operand1 - operand2)\n",
    "            elif char == '*':\n",
    "                stack.append(operand1 * operand2)\n",
    "            elif char == '/':\n",
    "                stack.append(operand1 / operand2)\n",
    "\n",
    "    return stack.pop()\n",
    "S = \"231*+9-\"\n",
    "output = evaluate_postfix(S)\n",
    "print(output)"
   ]
  },
  {
   "cell_type": "markdown",
   "id": "57055183-427f-410c-aead-bceaee11c11e",
   "metadata": {},
   "source": [
    "💡 Question 7\n",
    "\n",
    "Design a stack that supports push, pop, top, and retrieving the minimum element in constant time.\n",
    "\n",
    "Implement the MinStack class:\n",
    "\n",
    "MinStack() initializes the stack object.\n",
    "void push(int val) pushes the element val onto the stack.\n",
    "void pop() removes the element on the top of the stack.\n",
    "int top() gets the top element of the stack.\n",
    "int getMin() retrieves the minimum element in the stack.\n",
    "You must implement a solution with O(1) time complexity for each function."
   ]
  },
  {
   "cell_type": "code",
   "execution_count": 7,
   "id": "caeb453f-21c7-4c19-877e-afb7ab8dcf00",
   "metadata": {},
   "outputs": [
    {
     "name": "stdout",
     "output_type": "stream",
     "text": [
      "1\n",
      "1\n",
      "2\n",
      "2\n"
     ]
    }
   ],
   "source": [
    "class MinStack:\n",
    "    def __init__(self):\n",
    "        self.stack = []\n",
    "        self.min_stack = []\n",
    "\n",
    "    def push(self, val):\n",
    "        self.stack.append(val)\n",
    "        if not self.min_stack or val <= self.min_stack[-1]:\n",
    "            self.min_stack.append(val)\n",
    "\n",
    "    def pop(self):\n",
    "        if self.stack:\n",
    "            popped_element = self.stack.pop()\n",
    "            if popped_element == self.min_stack[-1]:\n",
    "                self.min_stack.pop()\n",
    "\n",
    "    def top(self):\n",
    "        if self.stack:\n",
    "            return self.stack[-1]\n",
    "\n",
    "    def getMin(self):\n",
    "        if self.min_stack:\n",
    "            return self.min_stack[-1]\n",
    "\n",
    "# Example usage:\n",
    "minStack = MinStack()\n",
    "minStack.push(3)\n",
    "minStack.push(5)\n",
    "minStack.push(2)\n",
    "minStack.push(1)\n",
    "\n",
    "print(minStack.top())     # Output: 1\n",
    "print(minStack.getMin())  # Output: 1\n",
    "\n",
    "minStack.pop()\n",
    "print(minStack.top())\n",
    "print(minStack.getMin())"
   ]
  },
  {
   "cell_type": "markdown",
   "id": "1f564ba9-94b0-4a2d-ac2c-d50fb8aed868",
   "metadata": {},
   "source": [
    "💡 Question 8\n",
    "\n",
    "Given n non-negative integers representing an elevation map where the width of each bar is 1, compute how much water it can trap after raining."
   ]
  },
  {
   "cell_type": "code",
   "execution_count": 8,
   "id": "f21f2e23-9966-4649-8fa6-65b40f3d6761",
   "metadata": {},
   "outputs": [
    {
     "name": "stdout",
     "output_type": "stream",
     "text": [
      "6\n"
     ]
    }
   ],
   "source": [
    "def trap_water(height):\n",
    "    n = len(height)\n",
    "    if n < 3:\n",
    "        return 0\n",
    "\n",
    "    left = 0\n",
    "    right = n - 1\n",
    "    left_max = 0\n",
    "    right_max = 0\n",
    "    water = 0\n",
    "\n",
    "    while left < right:\n",
    "        if height[left] < height[right]:\n",
    "            if height[left] > left_max:\n",
    "                left_max = height[left]\n",
    "            else:\n",
    "                water += left_max - height[left]\n",
    "            left += 1\n",
    "        else:\n",
    "            if height[right] > right_max:\n",
    "                right_max = height[right]\n",
    "            else:\n",
    "                water += right_max - height[right]\n",
    "            right -= 1\n",
    "\n",
    "    return water\n",
    "height = [0, 1, 0, 2, 1, 0, 1, 3, 2, 1, 2, 1]\n",
    "output = trap_water(height)\n",
    "print(output)"
   ]
  },
  {
   "cell_type": "code",
   "execution_count": null,
   "id": "859d225a-c7bb-4b78-bbb8-4fa72e026a34",
   "metadata": {},
   "outputs": [],
   "source": []
  },
  {
   "cell_type": "code",
   "execution_count": null,
   "id": "42630892-7e52-440c-a449-855bb1d4c7ee",
   "metadata": {},
   "outputs": [],
   "source": []
  }
 ],
 "metadata": {
  "kernelspec": {
   "display_name": "Python 3 (ipykernel)",
   "language": "python",
   "name": "python3"
  },
  "language_info": {
   "codemirror_mode": {
    "name": "ipython",
    "version": 3
   },
   "file_extension": ".py",
   "mimetype": "text/x-python",
   "name": "python",
   "nbconvert_exporter": "python",
   "pygments_lexer": "ipython3",
   "version": "3.10.6"
  }
 },
 "nbformat": 4,
 "nbformat_minor": 5
}
