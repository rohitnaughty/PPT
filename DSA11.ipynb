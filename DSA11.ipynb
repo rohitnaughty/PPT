{
 "cells": [
  {
   "cell_type": "raw",
   "id": "0249239b-7354-45bf-a01c-4e779b6f0af9",
   "metadata": {},
   "source": [
    "1. Given a non-negative integer `x`, return *the square root of `x` rounded down \n",
    "to the nearest integer The returned integer should be non-negative as well.\n",
    "You must not use any built-in exponent function or operator.\n",
    "- For example, do not use `pow(x, 0.5)` in c++ or `x ** 0.5` in python.\n",
    "\n",
    "# Example\n",
    "Input: x = 4\n",
    "Output: 2\n",
    "Explanation: The square root of 4 is 2, so we return 2."
   ]
  },
  {
   "cell_type": "code",
   "execution_count": 1,
   "id": "f658bff6-194e-41b2-bfe0-b88c3d986d3e",
   "metadata": {},
   "outputs": [
    {
     "name": "stdout",
     "output_type": "stream",
     "text": [
      "2\n",
      "2\n"
     ]
    }
   ],
   "source": [
    "def sqrt(x):\n",
    "    if x == 0:\n",
    "        return 0\n",
    "\n",
    "    left = 1\n",
    "    right = x\n",
    "\n",
    "    while left <= right:\n",
    "        mid = left + (right - left) // 2\n",
    "        if mid * mid <= x < (mid + 1) * (mid + 1):\n",
    "            return mid\n",
    "        elif x < mid * mid:\n",
    "            right = mid - 1\n",
    "        else:\n",
    "            left = mid + 1\n",
    "\n",
    "    return -1  # This line will never be reached if x is a non-negative integer\n",
    "\n",
    "# Example 1\n",
    "x = 4\n",
    "print(sqrt(x)) \n",
    "\n",
    "# Example 2\n",
    "x = 8\n",
    "print(sqrt(x))"
   ]
  },
  {
   "cell_type": "markdown",
   "id": "545abd37-a26c-47ca-92ea-dd1ea3766d39",
   "metadata": {},
   "source": [
    "2. A peak element is an element that is strictly greater than its neighbors.\n",
    "Given a 0-indexed integer array `nums`, find a peak element, and return its index. \n",
    "If the array contains multiple peaks, return the index to any of the peaks\n",
    "You may imagine that `nums[-1] = nums[n] = -∞`. In other words, an element is always \n",
    "considered to be strictly greater than a neighbor that is outside the array.\n",
    "You must write an algorithm that runs in `O(log n)` time.\n",
    "\n",
    "#  Example 1\n",
    "Input: nums = [1,2,3,1]\n",
    "Output: 2\n",
    "Explanation: 3 is a peak element and your function should return the index number 2.\n",
    "\n",
    "# Example 2\n",
    "Input: nums = [1,2,1,3,5,6,4]\n",
    "Output: 5\n",
    "Explanation: Your function can return either index number 1 where the peak element is 2, \n",
    "or index number 5 where the peak element is 6."
   ]
  },
  {
   "cell_type": "code",
   "execution_count": 2,
   "id": "d1512935-7d8b-42a9-829b-20339fae018f",
   "metadata": {},
   "outputs": [
    {
     "name": "stdout",
     "output_type": "stream",
     "text": [
      "2\n",
      "5\n"
     ]
    }
   ],
   "source": [
    "def find_peak_element(nums):\n",
    "    left = 0\n",
    "    right = len(nums) - 1\n",
    "\n",
    "    while left < right:\n",
    "        mid = left + (right - left) // 2\n",
    "\n",
    "        if nums[mid] < nums[mid + 1]:\n",
    "            left = mid + 1\n",
    "        else:\n",
    "            right = mid\n",
    "\n",
    "    return left\n",
    "\n",
    "# Example \n",
    "nums = [1, 2, 3, 1]\n",
    "print(find_peak_element(nums))  \n",
    "\n",
    "nums = [1, 2, 1, 3, 5, 6, 4]\n",
    "print(find_peak_element(nums)) "
   ]
  },
  {
   "cell_type": "markdown",
   "id": "4419a1b9-70c8-4200-9a9d-8f94c4646546",
   "metadata": {},
   "source": [
    "3. Given an array nums containing n distinct numbers in the range [0, n], \n",
    "return the only number in the range that is missing from the array.\n",
    "\n",
    "# Example 1\n",
    "Input: nums = [3,0,1]\n",
    "Output: 2\n",
    "Explanation: n = 3 since there are 3 numbers, so all numbers are in the range [0,3].\n",
    "2 is the missing number in the range since it does not appear in nums.\n",
    "\n",
    "# Example 2\n",
    "Input: nums = [0,1]\n",
    "Output: 2\n",
    "Explanation: n = 2 since there are 2 numbers, so all numbers are in the range [0,2]. \n",
    "2 is the missing number in the range since it does not appear in nums.\n",
    "\n",
    "# Example 3\n",
    "Input: nums = [9,6,4,2,3,5,7,0,1]\n",
    "Output: 8\n",
    "Explanation: n = 9 since there are 9 numbers, so all numbers are in the range [0,9]. \n",
    "8 is the missing number in the range since it does not appear in nums."
   ]
  },
  {
   "cell_type": "code",
   "execution_count": 3,
   "id": "8e10ebf3-8dbb-4b48-81f6-116a0c26cfda",
   "metadata": {},
   "outputs": [
    {
     "name": "stdout",
     "output_type": "stream",
     "text": [
      "2\n",
      "2\n",
      "8\n"
     ]
    }
   ],
   "source": [
    "def missing_number(nums):\n",
    "    n = len(nums)\n",
    "    missing = n\n",
    "\n",
    "    for i in range(n):\n",
    "        missing ^= i ^ nums[i]\n",
    "\n",
    "    return missing\n",
    "\n",
    "# Example \n",
    "nums = [3, 0, 1]\n",
    "print(missing_number(nums))  \n",
    "\n",
    "nums = [0, 1]\n",
    "print(missing_number(nums))  \n",
    "\n",
    "nums = [9,6,4,2,3,5,7,0,1]\n",
    "print(missing_number(nums))"
   ]
  },
  {
   "cell_type": "markdown",
   "id": "d503a28d-beea-416d-bfa2-2f654f0a47cd",
   "metadata": {},
   "source": [
    "4. Given an array of integers `nums` containing `n + 1` integers where each integer\n",
    "is in the range `[1, n]` inclusive.\n",
    "There is only one repeated number in `nums`, return this repeated number\n",
    "You must solve the problem without modifying the array `nums` and uses only constant extra space.\n",
    "\n",
    "Example 1\n",
    "Input: nums = [1,3,4,2,2]\n",
    "Output: 2\n",
    "\n",
    "Example 2\n",
    "Input: nums = [3,1,3,4,2]\n",
    "Output: 3"
   ]
  },
  {
   "cell_type": "code",
   "execution_count": 4,
   "id": "328ec618-b162-454a-abe9-ccf69d9aaf4a",
   "metadata": {},
   "outputs": [
    {
     "name": "stdout",
     "output_type": "stream",
     "text": [
      "2\n",
      "3\n"
     ]
    }
   ],
   "source": [
    "def find_duplicate(nums):\n",
    "    slow = nums[0]\n",
    "    fast = nums[0]\n",
    "\n",
    "    # Move slow pointer by one step and fast pointer by two steps\n",
    "    while True:\n",
    "        slow = nums[slow]\n",
    "        fast = nums[nums[fast]]\n",
    "        if slow == fast:\n",
    "            break\n",
    "\n",
    "    # Find the entrance of the cycle\n",
    "    slow = nums[0]\n",
    "    while slow != fast:\n",
    "        slow = nums[slow]\n",
    "        fast = nums[fast]\n",
    "\n",
    "    return slow\n",
    "\n",
    "# Example \n",
    "nums = [1, 3, 4, 2, 2]\n",
    "print(find_duplicate(nums))  \n",
    "\n",
    "nums = [3, 1, 3, 4, 2]\n",
    "print(find_duplicate(nums))"
   ]
  },
  {
   "cell_type": "markdown",
   "id": "2137362e-94df-4016-aeb3-2f31c3b9cd71",
   "metadata": {},
   "source": [
    "5. Given two integer arrays nums1 and nums2, return an array of their intersection. \n",
    "Each element in the result must be unique and you may return the result in any order.\n",
    "Example 1\n",
    "Input: nums1 = [1,2,2,1], nums2 = [2,2]\n",
    "Output: [2]\n",
    "\n",
    "Example 2\n",
    "Input: nums1 = [4,9,5], nums2 = [9,4,9,8,4]\n",
    "Output: [9,4]\n",
    "Explanation: [4,9] is also accepted."
   ]
  },
  {
   "cell_type": "code",
   "execution_count": 5,
   "id": "1dd6b97e-186e-4c10-af7d-5608b5b73a52",
   "metadata": {},
   "outputs": [
    {
     "name": "stdout",
     "output_type": "stream",
     "text": [
      "[2]\n",
      "[9, 4]\n"
     ]
    }
   ],
   "source": [
    "def intersection(nums1, nums2):\n",
    "    set1 = set(nums1)\n",
    "    set2 = set(nums2)\n",
    "    return list(set1.intersection(set2))\n",
    "\n",
    "# Example usage\n",
    "nums1 = [1, 2, 2, 1]\n",
    "nums2 = [2, 2]\n",
    "print(intersection(nums1, nums2)) \n",
    "\n",
    "nums1 = [4, 9, 5]\n",
    "nums2 = [9, 4, 9, 8, 4]\n",
    "print(intersection(nums1, nums2))"
   ]
  },
  {
   "cell_type": "markdown",
   "id": "4c83a050-a3dc-4637-936b-fc3b486bbb15",
   "metadata": {},
   "source": [
    "6. Suppose an array of length `n` sorted in ascending order is rotated between \n",
    "`1` and `n` times. For example, the array `nums = [0,1,2,4,5,6,7]` might become:\n",
    "- `[4,5,6,7,0,1,2]` if it was rotated `4` times.\n",
    "- `[0,1,2,4,5,6,7]` if it was rotated `7` times.\n",
    "Notice that rotating an array `[a[0], a[1], a[2], ..., a[n-1]]` 1 time results\n",
    "in the array `[a[n-1], a[0], a[1], a[2], ..., a[n-2]]`.\n",
    "Given the sorted rotated array `nums` of unique elements, return the minimum element of this array\n",
    "You must write an algorithm that runs in `O(log n) time.`\n",
    "\n",
    "Example 1\n",
    "Input: nums = [3,4,5,1,2]\n",
    "Output: 1\n",
    "Explanation: The original array was [1,2,3,4,5] rotated 3 times.\n",
    "\n",
    "Example 2\n",
    "Input: nums = [4,5,6,7,0,1,2]\n",
    "Output: 0\n",
    "Explanation: The original array was [0,1,2,4,5,6,7] and it was rotated 4 times.\n",
    "\n",
    "Example 3\n",
    "Input: nums = [11,13,15,17]\n",
    "Output: 11\n",
    "Explanation: The original array was [11,13,15,17] and it was rotated 4 times."
   ]
  },
  {
   "cell_type": "code",
   "execution_count": 6,
   "id": "99d731a0-43f3-4bcc-852e-5314cff199f5",
   "metadata": {},
   "outputs": [
    {
     "name": "stdout",
     "output_type": "stream",
     "text": [
      "1\n",
      "0\n",
      "11\n"
     ]
    }
   ],
   "source": [
    "def find_minimum(nums):\n",
    "    left = 0\n",
    "    right = len(nums) - 1\n",
    "\n",
    "    while left < right:\n",
    "        mid = left + (right - left) // 2\n",
    "\n",
    "        if nums[mid] > nums[right]:\n",
    "            left = mid + 1\n",
    "        else:\n",
    "            right = mid\n",
    "\n",
    "    return nums[left]\n",
    "\n",
    "# Example usage\n",
    "nums = [3, 4, 5, 1, 2]\n",
    "print(find_minimum(nums))  \n",
    "\n",
    "nums = [4, 5, 6, 7, 0, 1, 2]\n",
    "print(find_minimum(nums)) \n",
    "\n",
    "nums = [11, 13, 15, 17]\n",
    "print(find_minimum(nums))  "
   ]
  },
  {
   "cell_type": "markdown",
   "id": "1a62a44e-c8e6-4b17-8169-87172e1be95c",
   "metadata": {},
   "source": [
    "7. Given an array of integers `nums` sorted in non-decreasing order, find the starting\n",
    "and ending position of a given `target` value.\n",
    "If `target` is not found in the array, return `[-1, -1]`.\n",
    "You must write an algorithm with `O(log n)` runtime complexity.\n",
    "\n",
    "Example 1\n",
    "Input: nums = [5,7,7,8,8,10], target = 8\n",
    "Output: [3,4]\n",
    "\n",
    "Example 2\n",
    "Input: nums = [5,7,7,8,8,10], target = 6\n",
    "Output: [-1,-1]\n",
    "\n",
    "Example 3\n",
    "Input: nums = [], target = 0\n",
    "Output: [-1,-1]"
   ]
  },
  {
   "cell_type": "code",
   "execution_count": 7,
   "id": "c137f5e8-b8cb-45a7-a80c-2ba60540c12a",
   "metadata": {},
   "outputs": [
    {
     "name": "stdout",
     "output_type": "stream",
     "text": [
      "[3, 4]\n",
      "[-1, -1]\n",
      "[-1, -1]\n"
     ]
    }
   ],
   "source": [
    "def searchRange(nums, target):\n",
    "    start = findLeftmostIndex(nums, target)\n",
    "    end = findRightmostIndex(nums, target)\n",
    "    return [start, end]\n",
    "\n",
    "def findLeftmostIndex(nums, target):\n",
    "    left = 0\n",
    "    right = len(nums) - 1\n",
    "    index = -1\n",
    "\n",
    "    while left <= right:\n",
    "        mid = left + (right - left) // 2\n",
    "\n",
    "        if nums[mid] >= target:\n",
    "            right = mid - 1\n",
    "        else:\n",
    "            left = mid + 1\n",
    "\n",
    "        if nums[mid] == target:\n",
    "            index = mid\n",
    "\n",
    "    return index\n",
    "def findRightmostIndex(nums, target):\n",
    "    left = 0\n",
    "    right = len(nums) - 1\n",
    "    index = -1\n",
    "\n",
    "    while left <= right:\n",
    "        mid = left + (right - left) // 2\n",
    "\n",
    "        if nums[mid] <= target:\n",
    "            left = mid + 1\n",
    "        else:\n",
    "            right = mid - 1\n",
    "\n",
    "        if nums[mid] == target:\n",
    "            index = mid\n",
    "\n",
    "    return index\n",
    "\n",
    "# Example usage\n",
    "nums = [5, 7, 7, 8, 8, 10]\n",
    "target = 8\n",
    "print(searchRange(nums, target)) \n",
    "\n",
    "nums = [5, 7, 7, 8, 8, 10]\n",
    "target = 6\n",
    "print(searchRange(nums, target))  \n",
    "\n",
    "nums = []\n",
    "target = 0\n",
    "print(searchRange(nums, target))  "
   ]
  },
  {
   "cell_type": "markdown",
   "id": "df59a180-67c1-498a-8920-d2fca7b62d54",
   "metadata": {},
   "source": [
    "8. Given two integer arrays nums1 and nums2, return an array of their intersection.\n",
    "Each element in the result must appear as many times as it shows in both arrays and \n",
    "you may return the result in any order.\n",
    "\n",
    "Example 1\n",
    "Input: nums1 = [1,2,2,1], nums2 = [2,2]\n",
    "Output: [2,2]\n",
    "\n",
    "Example 2\n",
    "Input: nums1 = [4,9,5], nums2 = [9,4,9,8,4]\n",
    "Output: [4,9]\n",
    "Explanation: [9,4] is also accepted."
   ]
  },
  {
   "cell_type": "code",
   "execution_count": 8,
   "id": "789b3364-def0-4455-a89e-a80affa20f7c",
   "metadata": {},
   "outputs": [
    {
     "name": "stdout",
     "output_type": "stream",
     "text": [
      "[2, 2]\n",
      "[9, 4]\n"
     ]
    }
   ],
   "source": [
    "def intersect(nums1, nums2):\n",
    "    # Create a hash map to store the frequency of each element in nums1\n",
    "    freq_map = {}\n",
    "    for num in nums1:\n",
    "        freq_map[num] = freq_map.get(num, 0) + 1\n",
    "\n",
    "    # Iterate through nums2 and check if each element exists in the hash map\n",
    "    result = []\n",
    "    for num in nums2:\n",
    "        if num in freq_map and freq_map[num] > 0:\n",
    "            result.append(num)\n",
    "            freq_map[num] -= 1\n",
    "\n",
    "    return result\n",
    "\n",
    "# Example usage\n",
    "nums1 = [1, 2, 2, 1]\n",
    "nums2 = [2, 2]\n",
    "print(intersect(nums1, nums2)) \n",
    "\n",
    "nums1 = [4, 9, 5]\n",
    "nums2 = [9, 4, 9, 8, 4]\n",
    "print(intersect(nums1, nums2))  "
   ]
  },
  {
   "cell_type": "code",
   "execution_count": null,
   "id": "0b5393ff-1f02-4c9f-bec9-b03c318e9d32",
   "metadata": {},
   "outputs": [],
   "source": []
  },
  {
   "cell_type": "code",
   "execution_count": null,
   "id": "ae6c0201-a82e-428e-b82e-f948e32c235a",
   "metadata": {},
   "outputs": [],
   "source": []
  },
  {
   "cell_type": "code",
   "execution_count": null,
   "id": "595549aa-caa1-416a-b025-082bcc0cdea5",
   "metadata": {},
   "outputs": [],
   "source": []
  }
 ],
 "metadata": {
  "kernelspec": {
   "display_name": "Python 3 (ipykernel)",
   "language": "python",
   "name": "python3"
  },
  "language_info": {
   "codemirror_mode": {
    "name": "ipython",
    "version": 3
   },
   "file_extension": ".py",
   "mimetype": "text/x-python",
   "name": "python",
   "nbconvert_exporter": "python",
   "pygments_lexer": "ipython3",
   "version": "3.10.6"
  }
 },
 "nbformat": 4,
 "nbformat_minor": 5
}
